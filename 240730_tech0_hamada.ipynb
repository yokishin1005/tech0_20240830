{
  "nbformat": 4,
  "nbformat_minor": 0,
  "metadata": {
    "colab": {
      "provenance": [],
      "gpuType": "T4"
    },
    "kernelspec": {
      "name": "python3",
      "display_name": "Python 3"
    },
    "language_info": {
      "name": "python"
    },
    "accelerator": "GPU"
  },
  "cells": [
    {
      "cell_type": "markdown",
      "source": [
        "# 議事録アプリ実装体験\n",
        "\n",
        "## 免責事項\n",
        "> これは議事録アプリを0から作成するハンズオンWS用ファイルであり、その目的に特化して作成されています。このファイルを使用した際に発生する可能性のあるいかなる不具合についても責任を負いかねます。<br>ファイルの品質と機能性を確保するために万全を尽くしておりますが、万一の不具合発生時にはご理解いただけますようお願い申し上げます。\n",
        "\n",
        "## 操作方法\n",
        "\n",
        "下記に用意されているコードに対して、<br>\n",
        "> windows: コードブロックを選択した状態でCtrl + Enter<br>\n",
        ">Mac: コードブロックを選択した状態でCommand + Enter\n",
        "\n",
        "もしくは▶マークを選択して、コードを起動してください。\n",
        "\n",
        "## 確認\n",
        "\n",
        "コードブロック横が✔になれば動作は完了しています。<br>\n",
        "Warningが表示されていたとしても、先に続くコードが活用できていれば基本問題はございません。"
      ],
      "metadata": {
        "id": "BymhbEkaswDH"
      }
    },
    {
      "cell_type": "code",
      "source": [
        "##################### シャープはコメントアウトと呼び、コード部分ではない解説やメモを記載できます #######################"
      ],
      "metadata": {
        "id": "gLMZjvIos-iv"
      },
      "execution_count": null,
      "outputs": []
    },
    {
      "cell_type": "markdown",
      "source": [
        "# 議事録アプリを作ろう！\n",
        "議事録を作るには、\n",
        "①動画や音声データから文字を書き起こし\n",
        "②書き起こしデータから、LLMを使って用途に合わせて要約\n",
        "③要約データを保存する\n",
        "という３ステップで実装することができます。\n",
        "\n",
        "## ○目標\n",
        "*   書き起こし等の様々なライブラリを使ってみる\n",
        "*   アプリケーション構築の一連の流れを体験する\n",
        "\n",
        "## ○体験できること：\n",
        "*   Pythonとライブラリを活用したアプリケーション作成\n",
        "*   Speech to Textサービス、Whisperを用いた文字起こし\n",
        "*   OpenAIのGPTを使ったプロンプトエンジニアリング\n",
        "*   Pandasを用いたデータ整理\n",
        "\n",
        "\n",
        "\n",
        "\n"
      ],
      "metadata": {
        "id": "8e8NE5eQ4PRP"
      }
    },
    {
      "cell_type": "markdown",
      "source": [
        "# 書き起こしをやってみよう"
      ],
      "metadata": {
        "id": "MAwKWiNgasaW"
      }
    },
    {
      "cell_type": "markdown",
      "source": [
        "## 目的\n",
        "moviepyとwhisperを用いて、動画から音声に、音声から文字起こし、を体験してみましょう。\n",
        "\n",
        "*   ライブラリの使用方法を学ぶ\n",
        "*   文字起こし機能を実装する\n",
        "\n",
        "\n",
        "Whisperとは？\n",
        "https://platform.openai.com/docs/guides/speech-to-text\n",
        "https://github.com/openai/whisper\n",
        "\n",
        "Whisperで使えるモデルを学ぼう\n",
        "https://qiita.com/diesekiefer/items/00d8c1507829b58a62ab\n",
        "\n",
        "\n",
        "Whisperを使って動画ファイルをテキスト化しよう\n",
        "https://platform.openai.com/docs/guides/speech-to-text/quickstart\n"
      ],
      "metadata": {
        "id": "hO6kpbN9axTJ"
      }
    },
    {
      "cell_type": "markdown",
      "source": [
        "## 動画ファイルから音声ファイルに変換"
      ],
      "metadata": {
        "id": "YR8iOFg4qLJc"
      }
    },
    {
      "cell_type": "code",
      "source": [
        "# githubというコード共有・管理サイト上にある、テスト用のmp4ファイルをダウンロードします（Google corabのクラウド上へ）\n",
        "# https://github.com/jidansan6/testmovie/blob/328b381957c76484894d4dbb7d9628c8b50c5c5d/testmovie.mp4 -debug用\n",
        "!wget https://github.com/jidansan6/testmovie/raw/328b381957c76484894d4dbb7d9628c8b50c5c5d/testmovie_ma.mp4 -O testmovie.mp4"
      ],
      "metadata": {
        "colab": {
          "base_uri": "https://localhost:8080/"
        },
        "id": "9kpnusNvtfle",
        "outputId": "b42de13a-1e3e-4e2e-b8e7-15adc74fdf02"
      },
      "execution_count": 4,
      "outputs": [
        {
          "output_type": "stream",
          "name": "stdout",
          "text": [
            "--2024-07-29 15:33:11--  https://github.com/jidansan6/testmovie/raw/328b381957c76484894d4dbb7d9628c8b50c5c5d/testmovie_ma.mp4\n",
            "Resolving github.com (github.com)... 140.82.121.4\n",
            "Connecting to github.com (github.com)|140.82.121.4|:443... connected.\n",
            "HTTP request sent, awaiting response... 302 Found\n",
            "Location: https://raw.githubusercontent.com/jidansan6/testmovie/328b381957c76484894d4dbb7d9628c8b50c5c5d/testmovie_ma.mp4 [following]\n",
            "--2024-07-29 15:33:11--  https://raw.githubusercontent.com/jidansan6/testmovie/328b381957c76484894d4dbb7d9628c8b50c5c5d/testmovie_ma.mp4\n",
            "Resolving raw.githubusercontent.com (raw.githubusercontent.com)... 185.199.108.133, 185.199.109.133, 185.199.110.133, ...\n",
            "Connecting to raw.githubusercontent.com (raw.githubusercontent.com)|185.199.108.133|:443... connected.\n",
            "HTTP request sent, awaiting response... 200 OK\n",
            "Length: 25016147 (24M) [application/octet-stream]\n",
            "Saving to: ‘testmovie.mp4’\n",
            "\n",
            "\rtestmovie.mp4         0%[                    ]       0  --.-KB/s               \rtestmovie.mp4       100%[===================>]  23.86M  --.-KB/s    in 0.08s   \n",
            "\n",
            "2024-07-29 15:33:11 (291 MB/s) - ‘testmovie.mp4’ saved [25016147/25016147]\n",
            "\n"
          ]
        }
      ]
    },
    {
      "cell_type": "markdown",
      "source": [
        "Pythonは①豊富なライブラリが存在すること、➁学習者が多く、情報も多いことから、人気なプログラミング言語のひとつです。ライブラリを組み合わせてアプリを作成してみましょう。"
      ],
      "metadata": {
        "id": "PypakVhsX3YL"
      }
    },
    {
      "cell_type": "code",
      "source": [
        "# 必要なライブラリのインストール（機能をネットワーク上から、今回の作業環境へ引っ張ってくる）\n",
        "# たとえるならば、ドラゴンクエストの武器屋で武器を「購入」するイメージ（未装備）\n",
        "!pip install moviepy"
      ],
      "metadata": {
        "colab": {
          "base_uri": "https://localhost:8080/"
        },
        "id": "bZzQyOFcj2oD",
        "outputId": "95239433-fd57-43c9-f944-bcd31eedd9f2"
      },
      "execution_count": 5,
      "outputs": [
        {
          "output_type": "stream",
          "name": "stdout",
          "text": [
            "Requirement already satisfied: moviepy in /usr/local/lib/python3.10/dist-packages (1.0.3)\n",
            "Requirement already satisfied: decorator<5.0,>=4.0.2 in /usr/local/lib/python3.10/dist-packages (from moviepy) (4.4.2)\n",
            "Requirement already satisfied: tqdm<5.0,>=4.11.2 in /usr/local/lib/python3.10/dist-packages (from moviepy) (4.66.4)\n",
            "Requirement already satisfied: requests<3.0,>=2.8.1 in /usr/local/lib/python3.10/dist-packages (from moviepy) (2.31.0)\n",
            "Requirement already satisfied: proglog<=1.0.0 in /usr/local/lib/python3.10/dist-packages (from moviepy) (0.1.10)\n",
            "Requirement already satisfied: numpy>=1.17.3 in /usr/local/lib/python3.10/dist-packages (from moviepy) (1.25.2)\n",
            "Requirement already satisfied: imageio<3.0,>=2.5 in /usr/local/lib/python3.10/dist-packages (from moviepy) (2.34.2)\n",
            "Requirement already satisfied: imageio-ffmpeg>=0.2.0 in /usr/local/lib/python3.10/dist-packages (from moviepy) (0.5.1)\n",
            "Requirement already satisfied: pillow>=8.3.2 in /usr/local/lib/python3.10/dist-packages (from imageio<3.0,>=2.5->moviepy) (9.4.0)\n",
            "Requirement already satisfied: setuptools in /usr/local/lib/python3.10/dist-packages (from imageio-ffmpeg>=0.2.0->moviepy) (71.0.4)\n",
            "Requirement already satisfied: charset-normalizer<4,>=2 in /usr/local/lib/python3.10/dist-packages (from requests<3.0,>=2.8.1->moviepy) (3.3.2)\n",
            "Requirement already satisfied: idna<4,>=2.5 in /usr/local/lib/python3.10/dist-packages (from requests<3.0,>=2.8.1->moviepy) (3.7)\n",
            "Requirement already satisfied: urllib3<3,>=1.21.1 in /usr/local/lib/python3.10/dist-packages (from requests<3.0,>=2.8.1->moviepy) (2.0.7)\n",
            "Requirement already satisfied: certifi>=2017.4.17 in /usr/local/lib/python3.10/dist-packages (from requests<3.0,>=2.8.1->moviepy) (2024.7.4)\n"
          ]
        }
      ]
    },
    {
      "cell_type": "code",
      "source": [
        "# この環境で使えるようにする（装備的な感覚）\n",
        "# 初期装備として、pip installが不要なライブラリも存在します（時間を制御するtimeや、jsonファイルを取りあつかうjson,requestなど）\n",
        "from moviepy.editor import VideoFileClip"
      ],
      "metadata": {
        "id": "xSEmmd-KYfAq"
      },
      "execution_count": 6,
      "outputs": []
    },
    {
      "cell_type": "code",
      "source": [
        "# 処理するファイルを選択します\n",
        "video_file_path = \"testmovie.mp4\""
      ],
      "metadata": {
        "id": "sBmyyPQvYxaf"
      },
      "execution_count": 7,
      "outputs": []
    },
    {
      "cell_type": "code",
      "source": [
        "# ビデオファイルを「moviepy」の機能で読み込みます（clipの中に、対象のmp4を動画で格納しているイメージです）\n",
        "clip = VideoFileClip(video_file_path)"
      ],
      "metadata": {
        "id": "cFXKK-qJY9qX"
      },
      "execution_count": 8,
      "outputs": []
    },
    {
      "cell_type": "code",
      "source": [
        "# ビデオからオーディオを抽出し、wavファイルとして保存する\n",
        "clip.audio.write_audiofile(\"audio.wav\", 44100, 2, 2000,\"pcm_s32le\")"
      ],
      "metadata": {
        "colab": {
          "base_uri": "https://localhost:8080/"
        },
        "id": "IaE4QyBRZZdh",
        "outputId": "80d8b9a8-1836-402d-9873-7315e9d1139c"
      },
      "execution_count": 9,
      "outputs": [
        {
          "output_type": "stream",
          "name": "stdout",
          "text": [
            "MoviePy - Writing audio in audio.wav\n"
          ]
        },
        {
          "output_type": "stream",
          "name": "stderr",
          "text": [
            "                                                                        "
          ]
        },
        {
          "output_type": "stream",
          "name": "stdout",
          "text": [
            "MoviePy - Done.\n"
          ]
        },
        {
          "output_type": "stream",
          "name": "stderr",
          "text": [
            "\r"
          ]
        }
      ]
    },
    {
      "cell_type": "markdown",
      "source": [
        "これで動画から音声のみを抽出することができました。Whisperを使って、文字起こしをしてみましょう。"
      ],
      "metadata": {
        "id": "SYa6DSftZnEk"
      }
    },
    {
      "cell_type": "code",
      "source": [
        "# まずはwhisperの機能をインストール＋装備します。\n",
        "!pip install git+https://github.com/openai/whisper.git\n",
        "import whisper"
      ],
      "metadata": {
        "colab": {
          "base_uri": "https://localhost:8080/"
        },
        "id": "T6d7LiMbZtYb",
        "outputId": "133fc1a7-7c9c-4939-fc50-7bac086f69de"
      },
      "execution_count": 10,
      "outputs": [
        {
          "output_type": "stream",
          "name": "stdout",
          "text": [
            "Collecting git+https://github.com/openai/whisper.git\n",
            "  Cloning https://github.com/openai/whisper.git to /tmp/pip-req-build-2q_sa4y3\n",
            "  Running command git clone --filter=blob:none --quiet https://github.com/openai/whisper.git /tmp/pip-req-build-2q_sa4y3\n",
            "  Resolved https://github.com/openai/whisper.git to commit ba3f3cd54b0e5b8ce1ab3de13e32122d0d5f98ab\n",
            "  Installing build dependencies ... \u001b[?25l\u001b[?25hdone\n",
            "  Getting requirements to build wheel ... \u001b[?25l\u001b[?25hdone\n",
            "  Preparing metadata (pyproject.toml) ... \u001b[?25l\u001b[?25hdone\n",
            "Requirement already satisfied: numba in /usr/local/lib/python3.10/dist-packages (from openai-whisper==20231117) (0.60.0)\n",
            "Requirement already satisfied: numpy in /usr/local/lib/python3.10/dist-packages (from openai-whisper==20231117) (1.25.2)\n",
            "Requirement already satisfied: torch in /usr/local/lib/python3.10/dist-packages (from openai-whisper==20231117) (2.3.1+cu121)\n",
            "Requirement already satisfied: tqdm in /usr/local/lib/python3.10/dist-packages (from openai-whisper==20231117) (4.66.4)\n",
            "Requirement already satisfied: more-itertools in /usr/local/lib/python3.10/dist-packages (from openai-whisper==20231117) (10.3.0)\n",
            "Collecting tiktoken (from openai-whisper==20231117)\n",
            "  Downloading tiktoken-0.7.0-cp310-cp310-manylinux_2_17_x86_64.manylinux2014_x86_64.whl.metadata (6.6 kB)\n",
            "Requirement already satisfied: triton<3,>=2.0.0 in /usr/local/lib/python3.10/dist-packages (from openai-whisper==20231117) (2.3.1)\n",
            "Requirement already satisfied: filelock in /usr/local/lib/python3.10/dist-packages (from triton<3,>=2.0.0->openai-whisper==20231117) (3.15.4)\n",
            "Requirement already satisfied: llvmlite<0.44,>=0.43.0dev0 in /usr/local/lib/python3.10/dist-packages (from numba->openai-whisper==20231117) (0.43.0)\n",
            "Requirement already satisfied: regex>=2022.1.18 in /usr/local/lib/python3.10/dist-packages (from tiktoken->openai-whisper==20231117) (2024.5.15)\n",
            "Requirement already satisfied: requests>=2.26.0 in /usr/local/lib/python3.10/dist-packages (from tiktoken->openai-whisper==20231117) (2.31.0)\n",
            "Requirement already satisfied: typing-extensions>=4.8.0 in /usr/local/lib/python3.10/dist-packages (from torch->openai-whisper==20231117) (4.12.2)\n",
            "Requirement already satisfied: sympy in /usr/local/lib/python3.10/dist-packages (from torch->openai-whisper==20231117) (1.13.1)\n",
            "Requirement already satisfied: networkx in /usr/local/lib/python3.10/dist-packages (from torch->openai-whisper==20231117) (3.3)\n",
            "Requirement already satisfied: jinja2 in /usr/local/lib/python3.10/dist-packages (from torch->openai-whisper==20231117) (3.1.4)\n",
            "Requirement already satisfied: fsspec in /usr/local/lib/python3.10/dist-packages (from torch->openai-whisper==20231117) (2024.6.1)\n",
            "Collecting nvidia-cuda-nvrtc-cu12==12.1.105 (from torch->openai-whisper==20231117)\n",
            "  Using cached nvidia_cuda_nvrtc_cu12-12.1.105-py3-none-manylinux1_x86_64.whl.metadata (1.5 kB)\n",
            "Collecting nvidia-cuda-runtime-cu12==12.1.105 (from torch->openai-whisper==20231117)\n",
            "  Using cached nvidia_cuda_runtime_cu12-12.1.105-py3-none-manylinux1_x86_64.whl.metadata (1.5 kB)\n",
            "Collecting nvidia-cuda-cupti-cu12==12.1.105 (from torch->openai-whisper==20231117)\n",
            "  Using cached nvidia_cuda_cupti_cu12-12.1.105-py3-none-manylinux1_x86_64.whl.metadata (1.6 kB)\n",
            "Collecting nvidia-cudnn-cu12==8.9.2.26 (from torch->openai-whisper==20231117)\n",
            "  Using cached nvidia_cudnn_cu12-8.9.2.26-py3-none-manylinux1_x86_64.whl.metadata (1.6 kB)\n",
            "Collecting nvidia-cublas-cu12==12.1.3.1 (from torch->openai-whisper==20231117)\n",
            "  Using cached nvidia_cublas_cu12-12.1.3.1-py3-none-manylinux1_x86_64.whl.metadata (1.5 kB)\n",
            "Collecting nvidia-cufft-cu12==11.0.2.54 (from torch->openai-whisper==20231117)\n",
            "  Using cached nvidia_cufft_cu12-11.0.2.54-py3-none-manylinux1_x86_64.whl.metadata (1.5 kB)\n",
            "Collecting nvidia-curand-cu12==10.3.2.106 (from torch->openai-whisper==20231117)\n",
            "  Using cached nvidia_curand_cu12-10.3.2.106-py3-none-manylinux1_x86_64.whl.metadata (1.5 kB)\n",
            "Collecting nvidia-cusolver-cu12==11.4.5.107 (from torch->openai-whisper==20231117)\n",
            "  Using cached nvidia_cusolver_cu12-11.4.5.107-py3-none-manylinux1_x86_64.whl.metadata (1.6 kB)\n",
            "Collecting nvidia-cusparse-cu12==12.1.0.106 (from torch->openai-whisper==20231117)\n",
            "  Using cached nvidia_cusparse_cu12-12.1.0.106-py3-none-manylinux1_x86_64.whl.metadata (1.6 kB)\n",
            "Collecting nvidia-nccl-cu12==2.20.5 (from torch->openai-whisper==20231117)\n",
            "  Using cached nvidia_nccl_cu12-2.20.5-py3-none-manylinux2014_x86_64.whl.metadata (1.8 kB)\n",
            "Collecting nvidia-nvtx-cu12==12.1.105 (from torch->openai-whisper==20231117)\n",
            "  Using cached nvidia_nvtx_cu12-12.1.105-py3-none-manylinux1_x86_64.whl.metadata (1.7 kB)\n",
            "Collecting nvidia-nvjitlink-cu12 (from nvidia-cusolver-cu12==11.4.5.107->torch->openai-whisper==20231117)\n",
            "  Downloading nvidia_nvjitlink_cu12-12.5.82-py3-none-manylinux2014_x86_64.whl.metadata (1.5 kB)\n",
            "Requirement already satisfied: charset-normalizer<4,>=2 in /usr/local/lib/python3.10/dist-packages (from requests>=2.26.0->tiktoken->openai-whisper==20231117) (3.3.2)\n",
            "Requirement already satisfied: idna<4,>=2.5 in /usr/local/lib/python3.10/dist-packages (from requests>=2.26.0->tiktoken->openai-whisper==20231117) (3.7)\n",
            "Requirement already satisfied: urllib3<3,>=1.21.1 in /usr/local/lib/python3.10/dist-packages (from requests>=2.26.0->tiktoken->openai-whisper==20231117) (2.0.7)\n",
            "Requirement already satisfied: certifi>=2017.4.17 in /usr/local/lib/python3.10/dist-packages (from requests>=2.26.0->tiktoken->openai-whisper==20231117) (2024.7.4)\n",
            "Requirement already satisfied: MarkupSafe>=2.0 in /usr/local/lib/python3.10/dist-packages (from jinja2->torch->openai-whisper==20231117) (2.1.5)\n",
            "Requirement already satisfied: mpmath<1.4,>=1.1.0 in /usr/local/lib/python3.10/dist-packages (from sympy->torch->openai-whisper==20231117) (1.3.0)\n",
            "Downloading tiktoken-0.7.0-cp310-cp310-manylinux_2_17_x86_64.manylinux2014_x86_64.whl (1.1 MB)\n",
            "\u001b[2K   \u001b[90m━━━━━━━━━━━━━━━━━━━━━━━━━━━━━━━━━━━━━━━━\u001b[0m \u001b[32m1.1/1.1 MB\u001b[0m \u001b[31m29.5 MB/s\u001b[0m eta \u001b[36m0:00:00\u001b[0m\n",
            "\u001b[?25hUsing cached nvidia_cublas_cu12-12.1.3.1-py3-none-manylinux1_x86_64.whl (410.6 MB)\n",
            "Using cached nvidia_cuda_cupti_cu12-12.1.105-py3-none-manylinux1_x86_64.whl (14.1 MB)\n",
            "Using cached nvidia_cuda_nvrtc_cu12-12.1.105-py3-none-manylinux1_x86_64.whl (23.7 MB)\n",
            "Using cached nvidia_cuda_runtime_cu12-12.1.105-py3-none-manylinux1_x86_64.whl (823 kB)\n",
            "Using cached nvidia_cudnn_cu12-8.9.2.26-py3-none-manylinux1_x86_64.whl (731.7 MB)\n",
            "Using cached nvidia_cufft_cu12-11.0.2.54-py3-none-manylinux1_x86_64.whl (121.6 MB)\n",
            "Using cached nvidia_curand_cu12-10.3.2.106-py3-none-manylinux1_x86_64.whl (56.5 MB)\n",
            "Using cached nvidia_cusolver_cu12-11.4.5.107-py3-none-manylinux1_x86_64.whl (124.2 MB)\n",
            "Using cached nvidia_cusparse_cu12-12.1.0.106-py3-none-manylinux1_x86_64.whl (196.0 MB)\n",
            "Using cached nvidia_nccl_cu12-2.20.5-py3-none-manylinux2014_x86_64.whl (176.2 MB)\n",
            "Using cached nvidia_nvtx_cu12-12.1.105-py3-none-manylinux1_x86_64.whl (99 kB)\n",
            "Downloading nvidia_nvjitlink_cu12-12.5.82-py3-none-manylinux2014_x86_64.whl (21.3 MB)\n",
            "\u001b[2K   \u001b[90m━━━━━━━━━━━━━━━━━━━━━━━━━━━━━━━━━━━━━━━━\u001b[0m \u001b[32m21.3/21.3 MB\u001b[0m \u001b[31m12.4 MB/s\u001b[0m eta \u001b[36m0:00:00\u001b[0m\n",
            "\u001b[?25hBuilding wheels for collected packages: openai-whisper\n",
            "  Building wheel for openai-whisper (pyproject.toml) ... \u001b[?25l\u001b[?25hdone\n",
            "  Created wheel for openai-whisper: filename=openai_whisper-20231117-py3-none-any.whl size=802825 sha256=6f5a904a5c8b0c98611f13427315c0428d4e0ed407f5db434bd280143ebb8913\n",
            "  Stored in directory: /tmp/pip-ephem-wheel-cache-k9eh2nzo/wheels/8b/6c/d0/622666868c179f156cf595c8b6f06f88bc5d80c4b31dccaa03\n",
            "Successfully built openai-whisper\n",
            "Installing collected packages: nvidia-nvtx-cu12, nvidia-nvjitlink-cu12, nvidia-nccl-cu12, nvidia-curand-cu12, nvidia-cufft-cu12, nvidia-cuda-runtime-cu12, nvidia-cuda-nvrtc-cu12, nvidia-cuda-cupti-cu12, nvidia-cublas-cu12, tiktoken, nvidia-cusparse-cu12, nvidia-cudnn-cu12, nvidia-cusolver-cu12, openai-whisper\n",
            "Successfully installed nvidia-cublas-cu12-12.1.3.1 nvidia-cuda-cupti-cu12-12.1.105 nvidia-cuda-nvrtc-cu12-12.1.105 nvidia-cuda-runtime-cu12-12.1.105 nvidia-cudnn-cu12-8.9.2.26 nvidia-cufft-cu12-11.0.2.54 nvidia-curand-cu12-10.3.2.106 nvidia-cusolver-cu12-11.4.5.107 nvidia-cusparse-cu12-12.1.0.106 nvidia-nccl-cu12-2.20.5 nvidia-nvjitlink-cu12-12.5.82 nvidia-nvtx-cu12-12.1.105 openai-whisper-20231117 tiktoken-0.7.0\n"
          ]
        }
      ]
    },
    {
      "cell_type": "code",
      "source": [
        "# 早速使ってみましょう。まずはtinyモデルを使用してみます\n",
        "model_tiny = whisper.load_model(\"tiny\")\n",
        "result_tiny = model_tiny.transcribe(\"audio.wav\")\n",
        "print(result_tiny[\"text\"])"
      ],
      "metadata": {
        "colab": {
          "base_uri": "https://localhost:8080/"
        },
        "id": "ZWZVoitMZ8RS",
        "outputId": "a1b5fba1-a3a7-48b6-c6ec-d2a0cf7e9fd6"
      },
      "execution_count": 11,
      "outputs": [
        {
          "output_type": "stream",
          "name": "stderr",
          "text": [
            "100%|█████████████████████████████████████| 72.1M/72.1M [00:17<00:00, 4.34MiB/s]\n"
          ]
        },
        {
          "output_type": "stream",
          "name": "stdout",
          "text": [
            "ないですか?やめったりなわないですけどもこのまま帰りたいなともことがあるのか?はい最初からいたい4段今回は金融方々に職されているパーダシーやさんにお越しいときましたパーダさんよろしくお願いしますよろしくお願いします普通ですねいつも通りですね全員緊張しなさそう全員緊張してますしてますしてますよろしくお願いしますパーダさんは今ニューシャーな年目なりますか?2020年の2月に入りしたので水分かげつ10ヶ月とかそんな感じです今紹介したのかで一番任せてですね10ヶ月1年見つない10ヶ月のターダさん全職って何されてましたか?全職は新たく銀行に2回した新たく銀行お仕事どんなことされてたんですか?新たく銀行では個人の客様を相手に学業相談冬さん有以本みたいなそんな話を4ヶ月をやらせていった大手その後法人へ行っていうことで結構大企業のオリアゲでいくと100億とかそれぐらいを超える客様を多分としてこういう仕方にとかいわゆる法人マーリーのご相談みたいなそんなことをやってましたすごく高生石を覚められていたって言わさを聞いてますよくねも全然人に僕でポジトになりますはいそんなターダさんですがどうしてこのM&Aセンターに入ろうと思われたんですかもっともっと新たく銀行に入ったのも個人と保持人両方をやって両方のお悩みに乗れるようなまあ車員というかこういうのがになりたいと思って入ってでもそれやっていく中でやっぱり新たく銀行がやる保持人へ行って大企業が相手なので素敵大素敵っていうことでやっぱり大なというか経営者とちょっと距離が当鳴られていることを感じたりしながらなんか中小企業のエマンドエみたいなところだと大なさんの保持人の話にもそうなのれてでかつ会社のお悩みにも公園できるっていうところはいいなと思ってはい入者受けましたはいなるほど本当はお金とかじゃないですか金もまあ今さらになんかもないやればやっただけその評価されるみたいなその体系っていうんですかそういうのはやっぱり魅力には思ったとこでも持ちろんありますそうですねよねやっぱそこがうちの会社の大好みかなっていうふうに私も思いますとお仕事を気付いているような言われてますけれども一番辛かったエピソードなどあれば教えていただけますかえーとまだ入者してそんなに期間もないので自分辛かったなというのもお頃がましみんですがやっぱり一番最初の件をやらせていただいた時に今今今んでというと株式上とっていうことで株を私するのがまあ基本なんですけども事業上とっていうことで事業をお映すというのことがあったんですけれども実際それをやる最にあったってご清薬する前に事業員の方に対して会場を知ってその方たちのどういう得れないと実行ができないでもそういうことがあったんですが初めての案件なのでそんなに正直自身もないなこれ重要員の方とこうなりますと要はなしをして普通だったら割と5分とか10分ぐらいの割るということ聞いてたんですが40分ぐらいの質疑を多い話しておしそうに2分ぐらいの1分ぐらいのもうなんか全然付けっこうそこまでなんか頭中でイメージみたいな知ったんで最終は綺麗におさまったんですけど割とそこは大変だったなと本当に全然全然全然そうねいうのはありましたはいそういう時はどういうことに気をつけて話をされてたんですかまあやっぱりその重要員の方のことを考えてまあこの件決めたんだよと決してやっぱりその大なさんがまあお金目持ってきてやってるような話ではないとかはいまあそういった部分のまあ言わるその心の面の心情にまあ心情的なお話とかはいまあそういうのをやっぱさせていただきましたしかといってゆずり受けをねされる企業様にとって決まってないこととか言っちゃいけないのではいまあこの期待は効果ありますみたい話しかも当然言わないですけどまあとにかかりなんか十分にの方大致を持っての今んでいなんですけどいうのことでまあ説明することにちょっとめっちゃかなと言うところですねそうですねよねやっぱこうえんまないの知識ももちろん必要なんですけどその客様だとか重要意の方がよりそうっていう気持ちの部分もほんと求められるお仕事なのですごく大変だと思いますがさすがたはらさんですねなんか優しくいてくれそうですもんありがとうございますあとはちょっとぶっちゃけそうくに行きたいと思いますはいはいえっと正直まだ一年も立ってませんけども寄車されてもちろんくてやめたいなと思われたことってありますかまああのつつだいって大変はもちろん大変なんですがもう個人的なやっぱりやり合わすごやる仕事だなと思ってて最終的にいろんな人に結構とはできても最終半だよ全部自分でするみたいなところとかまあなんかそういうのは個人的な仕事になってるというかまあ自分で決めたから自分でやるみたいなことが大限的で電話を逆さまにも喜んのもらえるみたいなところもあってもやり合わすごい感じています本当で画もやだってもう帰りたいなってめちゃめてやるでもと思ったらまだないですかやめったりないですけどもこのまま帰りたいなと思うことがうんありがとうございますありますよねそれからありますはい僕はもう確かそうですね皆さんこやり合いがあって大丈夫って言うんですけど本当なのかなってとこはいいつま気になって思い出してみている人はいじゃあやり合いの方がまさる辛いよりも気付いよりもってことですかね今どうしてやってるんだよ今どうしてやってるはいありがとうございますおやすみたありますちゃんとどにいち今どんなそうですよねなんかどよどに気はそのお客様の工場権学とかましょいのがあればそこは対応するんですけども気持ってきな家にいることが多いかなとまたただ家で今手で分く何かも進んでいるので家でも仕事しようと思うのができるのでそこは必要に応じてやってるっていう感じですかつけっけっこうバランスは取れているんですねもうずっと寝てませんというわけではではないんですねはいはいあったで今ご家族って天職されてどう思われてますか辛さの仕事もうどんと両親なんかははいばり一応親たく言語まあ割りとぎまぎ人工で課題ところいたんではい私を不可能みたいないいのか見てまあそんな話をあったりしたんですが最近やっぱり新聞とかニュースでもマイマンドへって言葉が結構乗ってたりとかはいそんなですねあとは日本エマンでセンターがどうだみたいなはいまあ割とポジティブな気づとかも出てたりをするのでまあそういうところを見てまあ良かったんじゃないとあとは私の働いてる風に来とかをもうはい見てまたましそう生やりがありそうだねみたいなことよってくれますしまあ読み合わんは十分の好きに人と言葉ではいまあ上がって人の人の人が悔さってかせていてこういうようなスタンスでいてくれています皆さんお減されてますそうですねそうですね簡単ですありがとうございますそんなタハラさんですが将来はどういう教育とかしたいと考えられてますかそうですねなんかまあ私どこというよりはまあ私とバイタイを銀行さんに使ってもらってはいであのまあ一見でも多く一見でもなんかなんていうのにそこでたくたくさんのお客さんますくって上げれるようにまなってもらったらいいなという風に思いますしまあとねっくりやっぱり検数まあまだ一年もただないのでとねっくりバイ検数をやるとでこんなお客さんのに公園するとまあそんな風にやっていきたいなってうぐらいしかまだ描けてれないですはいで気ですもうやっぱりそのターダさんで全職で銀行語系検査でいてかつ今の仕事をされてるからこう思えることだと思う思いますし思い出したいですありがとうございますはいあと今このごらんなっている方ってどうじゃん入車を検討されている方が多いんですけれどもこう入車前にやっておけばよかったことだとかこう自然に知っておいた方がいいことだとかありましたらぜひ教えていただけますかやっぱりあの満呂へというといわゆるバランスシートとかはいあのPRみたいなとまあその辺はの読めないと最初で結構黒をするのではいまあそういうのを見るくせであったりとかまあ僕の勉強であったりとかまあそういうのはしておいてそのわないかなというふうには思いますそうですねどうしたれはあのぼきに急で出るの知識がないともうお仕事はさせてもらえないのでそうですね自然にちょっと知識をつけておくとかなりゆうりになるんじゃないかなと思いま他に何かお伝えしておくことありますかなんかまあもう少し地域に言われば私がいれぶ少をご紹介させていただくとそのやっぱ金曜日館さんとま提供して動いたいする文その検数だったりとかっていうのはまああのあるっていうと他の部署さんに比べるとその情報時代やっぱり上がってきやすいので検数は多くできるかなでまあそれが好きるにちながるかなと思うのではいそういうのあのいや、いたいと言う方はまず一気に欲しいいただけたんだあずになると思います確かにこうなんでも数を行わせていった方がこいつにもなりますしあのそういう意味では地域によってすごいチャンスに目が前提る不少かなと思いますのではいそんな感じですほどですかあとは大丈夫でそれをしておきたいみたいな感覚されましたというのですかはい地域金曜すれしましたあとうちの感覚されました金曜日のとりあえずたださんでしたありがとうございました感覚されました私はお楽しみに\n"
          ]
        }
      ]
    },
    {
      "cell_type": "markdown",
      "source": [
        "文字起こしが完了しましたね！\n",
        "違うモデルも試してみましょう。"
      ],
      "metadata": {
        "id": "aQZHS5Qhc28n"
      }
    },
    {
      "cell_type": "code",
      "source": [
        "# もう少し高精度なsmallモデルを使用してみます\n",
        "model_small = whisper.load_model(\"small\")\n",
        "result_small = model_small.transcribe(\"audio.wav\")\n",
        "print(result_small[\"text\"])"
      ],
      "metadata": {
        "colab": {
          "base_uri": "https://localhost:8080/"
        },
        "id": "JNOihOnqc3sO",
        "outputId": "55760106-2a3e-49df-9974-6f38662e16cf"
      },
      "execution_count": 12,
      "outputs": [
        {
          "output_type": "stream",
          "name": "stderr",
          "text": [
            "100%|███████████████████████████████████████| 461M/461M [00:05<00:00, 84.0MiB/s]\n"
          ]
        },
        {
          "output_type": "stream",
          "name": "stdout",
          "text": [
            "ないですかやめたいなはないですけどもこのまま変わりたいなと思うことは最初から第4弾今回は金融法人部に所属されているた原信仰さんにお越しいただきましたた原さんよろしくお願いしますよろしくお願いします普通ですねいつも通りですね全然緊張しなさそうですめっちゃ緊張してますしてますしてますしてますお願いしますた原さんは今入社何年目になりますか 2020年の2月に入社したので9か月10か月とかそんな感じです今紹介した中で一番若手ですね10か月1年もいない 10か月のた原さんはい全職って何されてましたか 全職は新宅銀行にいました新宅銀行お仕事どんなことされてたんですか新宅銀行新宅銀行では個人のお客様は1点に運用相談不動産有意言みたいなそんな話を4年半ほどやらせていただいてその後法人営業ということで結構大企業の売上でいくと100億とかそれぐらいを超えるお客様を担当して保有しだったりとか まあいわゆる法人周りのご相談みたいなそんなことをやってましたすごく高成績を収められていたという話を聞いてます全然人に怒れることがないですそんなた原さんですがどうしてこのエマンドエーセンターに入ろうと思われたんですかもっともっと新宅銀行に入ったのも個人と法人両方やって両方のお悩みに乗れるような社員というか公演になりたいと思って入ってそれをやっていく中でやっぱり新宅銀行がやる法人営業って大企業が相手なので組織対組織っていうことでやっぱりオーナーというか経営者とちょっと距離が遠いなーなんていうことを感じたりしながら中小企業のエマンドエーみたいなところだとオーナーさんの個人の話にも相談乗れてかつ会社のお悩みにも貢献できるというところがいいなと思って入社を受けましたなるほどー本当はお金とかじゃないですかお金もまあやればやっただけ評価されるみたいな体系というんですかそういうのはやっぱり魅力には思ったところももちろんありますそうですよねやっぱそこがうちの会社の大ゴミかなというふうに私も思いますお仕事をきついていろいろ言われてますけれども一番辛かったエピソードなどあれば教えていただけますかまだ入社してそんなに期間もないので一番辛かったなんていうのも小川真ですがやっぱり一番最初の案件をやらせていただいたときにまあエマンドエーというか株式上等ということで株を渡しするのが基本なんですけれども事業上等ということで事業を移すというようなことがあったんですけれども実際それをやる際に当たって補正約する前に従業員の方に対して会事をしてその方たちの同様を得れないと実行ができないってそういうことがあったんですが初めての案件なのでそんなに正直自信もない中で従業員の方とこうなりますというお話をして普通だったら割と5分とか10分くらいで終わるということを聞いてたんですが40分くらいの質疑応答に合いまして前日結構遅くまで頭の中でイメージをしてたので最終はきれいに収まったんですけど割とそこは大変だったなというのがありましたそういうときはどういうことに気をつけてお話をされてたんですかやっぱり従業員の方のことを考えて本県決めたんだよと決してオーナーさんがお金目的でやっているような話ではないとかそういった部分のいわゆる心の面の心情的なお話とかそういうのはやっぱりさせていただきましたしあとはゆずり受けをされる企業様にとって決まってないこととか言っちゃいけないのでここの規定は効果ありますみたいな話とかも当然言わないですしとにかく従業員の方が第一を持っているのが今までなんですということで説明することに努めていたかなというところですねそうですよねMRIの知識ももちろん必要なんですけど彼は従業員の方に寄り添うという気持ちの部分も求められるお仕事なのですごく大変だと思いますがさすが田原さんですね優しく言ってくれそうですもんありがとうございますあとはちょっとぶっちゃけトークに行きたいと思います正直まだ1年も経っていませんけれども入社されて辛くてやめたいなと思われたことってありますか辛いというか大変はもちろん大変なんですが個人的にはやっぱりやりがいはすごいある仕事だなと思ってて最終的にいろんな人に聞くことができても最終判断は全部自分でするみたいなところとかそういうのは個人的にはしょうにゃってるというか自分で決めたから自分でやるみたいなことが体現できてお客様にも喜んでもらえるみたいなところもあってやりがいはすごい感じてます本当ですかもうやだってもう帰りたいなってやめてやるってことはまだないですかやめたいのはないですけどもうこのまま帰りたいなと思うことはありますありますよねはい、それはありますなんかこうそうですね皆さんやりがいがあって大丈夫って言うんですけど本当なのかなってところはいつも気になってると思うし見てる人たちはやりがいの方がまさる辛いよりも、きついよりもってことですかね今の時点では今の時点ではありがとうございますお休みってありますちゃんと土日地今どんな感じですかそうですね土日地はお客様の向上見学とかそういうのがあればそこは対応するんですけども基本的には家にいることが多いかなとただ家で今テレワークなんかも進んでいるので家でも仕事しようともできるのでそこは必要に応じてやってるという感じですからね結構バランスは取れているんですねもずっと寝てませんってわけではではないんですねはい今ご家族って転職されてどう思われてますか太田さんの仕事もともと両親なんかはやっぱり一応新宅言語割とぎま銀行で課題ところいたんで大丈夫かみたいないいのかみたいなそんな話はあったりしたんですが最近やっぱり新聞とかニュースでもマイマンドエーって言葉が結構乗ってたりとかあとは日本M&Aセンターがどうだみたいな割とポジティブな記事とかも出てたりするのでそういうところを見てまあ良かったんじゃないとあとは私の働いている雰囲気とかを見てやりがやりそうだねみたいなことを言ってくれますし読めは自分の好きに来たらということで考えですねまあ頑張って人の内訳に立って稼いで来てこういうようなスタンスでいてくれています皆さん応援されているのでそうですね良かったですありがとうございます那田原さんですが将来はどういうお仕事がしたいと考えられてますかそうですね私同行というよりは私という売帯を銀行さんに使ってもらってで一見でも多く一見でも何かたくさんのお客さんを救ってあげれるようになってもらえたらいいなというふうに思いますしとにかくやっぱり件数をまだ1年も経たないのでとにかくいっぱい件数をやるといろんなお客さんに貢献するとそんなふうにやっていきたいなというくらいしかまだ描けていないです素敵ですやっぱり田原さんって全職で銀行をご経験されていてかつ今のお仕事をされているから思えることだと思いますし応援したいですありがとうございますあと今このご覧になっている方ってどうしたら入社を検討されている方が多いんですけれども入社前にやっておけば良かったことだとか事前に知っておいた方がいいことだとかありましたらぜひ教えていただけますかやっぱりマンドエーと言うといわゆるバランスシートとかPLみたいなとかその辺は読めないと最初で結構苦労するのでそういうのを見る癖であったりとかボキの勉強であったりとかそういうのはしておいて損はないかなというふうには思いますそうですね当社ではボキ29レベルの知識がないとお仕事はさせてもらえないのでそうですね事前にちょっと知識をつけておくとかなり有利になるんじゃないかなと思います他に何かお伝えしておくことありますかもう少し地域金融我々私がイル部署をご紹介させていただくと金融機関さんと提携して動いたりする分検数だったりとかっていうのはある程度他の部署さんに比べると情報自体は上がってきやすいので検数は多くできるかなとそれがスキルにつながるかなと思うのでそういうのをやりたいという方はぜひ地域金融にお越しいただけたらいいなと思いますそうですね確かに何でも数をこなしていたほうが質にもなりますしそういう意味では地域金融ってすごいチャンスに恵まれている部署かなと思いますのでそんな感じです本当ですか?本当は大丈夫ですか?大丈夫ですこれは言っておきたいみたいな方があれば大丈夫ですか?地域金融失礼しましたうちの会社で金融法人部と言います田原さんでしたありがとうございましたありがとうございましたまた次回もお楽しみに\n"
          ]
        }
      ]
    },
    {
      "cell_type": "code",
      "source": [
        "# 比較するとsmallの方がより高精度であることが想像できます。一方で処理時間については高精度の方が長くなることがわかりました。\n",
        "print(result_tiny[\"text\"])\n",
        "print(result_small[\"text\"])"
      ],
      "metadata": {
        "colab": {
          "base_uri": "https://localhost:8080/"
        },
        "id": "ptNXhxWJdanp",
        "outputId": "391f9c64-e928-406b-8579-9db9c43795cf"
      },
      "execution_count": 13,
      "outputs": [
        {
          "output_type": "stream",
          "name": "stdout",
          "text": [
            "ないですか?やめったりなわないですけどもこのまま帰りたいなともことがあるのか?はい最初からいたい4段今回は金融方々に職されているパーダシーやさんにお越しいときましたパーダさんよろしくお願いしますよろしくお願いします普通ですねいつも通りですね全員緊張しなさそう全員緊張してますしてますしてますよろしくお願いしますパーダさんは今ニューシャーな年目なりますか?2020年の2月に入りしたので水分かげつ10ヶ月とかそんな感じです今紹介したのかで一番任せてですね10ヶ月1年見つない10ヶ月のターダさん全職って何されてましたか?全職は新たく銀行に2回した新たく銀行お仕事どんなことされてたんですか?新たく銀行では個人の客様を相手に学業相談冬さん有以本みたいなそんな話を4ヶ月をやらせていった大手その後法人へ行っていうことで結構大企業のオリアゲでいくと100億とかそれぐらいを超える客様を多分としてこういう仕方にとかいわゆる法人マーリーのご相談みたいなそんなことをやってましたすごく高生石を覚められていたって言わさを聞いてますよくねも全然人に僕でポジトになりますはいそんなターダさんですがどうしてこのM&Aセンターに入ろうと思われたんですかもっともっと新たく銀行に入ったのも個人と保持人両方をやって両方のお悩みに乗れるようなまあ車員というかこういうのがになりたいと思って入ってでもそれやっていく中でやっぱり新たく銀行がやる保持人へ行って大企業が相手なので素敵大素敵っていうことでやっぱり大なというか経営者とちょっと距離が当鳴られていることを感じたりしながらなんか中小企業のエマンドエみたいなところだと大なさんの保持人の話にもそうなのれてでかつ会社のお悩みにも公園できるっていうところはいいなと思ってはい入者受けましたはいなるほど本当はお金とかじゃないですか金もまあ今さらになんかもないやればやっただけその評価されるみたいなその体系っていうんですかそういうのはやっぱり魅力には思ったとこでも持ちろんありますそうですねよねやっぱそこがうちの会社の大好みかなっていうふうに私も思いますとお仕事を気付いているような言われてますけれども一番辛かったエピソードなどあれば教えていただけますかえーとまだ入者してそんなに期間もないので自分辛かったなというのもお頃がましみんですがやっぱり一番最初の件をやらせていただいた時に今今今んでというと株式上とっていうことで株を私するのがまあ基本なんですけども事業上とっていうことで事業をお映すというのことがあったんですけれども実際それをやる最にあったってご清薬する前に事業員の方に対して会場を知ってその方たちのどういう得れないと実行ができないでもそういうことがあったんですが初めての案件なのでそんなに正直自身もないなこれ重要員の方とこうなりますと要はなしをして普通だったら割と5分とか10分ぐらいの割るということ聞いてたんですが40分ぐらいの質疑を多い話しておしそうに2分ぐらいの1分ぐらいのもうなんか全然付けっこうそこまでなんか頭中でイメージみたいな知ったんで最終は綺麗におさまったんですけど割とそこは大変だったなと本当に全然全然全然そうねいうのはありましたはいそういう時はどういうことに気をつけて話をされてたんですかまあやっぱりその重要員の方のことを考えてまあこの件決めたんだよと決してやっぱりその大なさんがまあお金目持ってきてやってるような話ではないとかはいまあそういった部分のまあ言わるその心の面の心情にまあ心情的なお話とかはいまあそういうのをやっぱさせていただきましたしかといってゆずり受けをねされる企業様にとって決まってないこととか言っちゃいけないのではいまあこの期待は効果ありますみたい話しかも当然言わないですけどまあとにかかりなんか十分にの方大致を持っての今んでいなんですけどいうのことでまあ説明することにちょっとめっちゃかなと言うところですねそうですねよねやっぱこうえんまないの知識ももちろん必要なんですけどその客様だとか重要意の方がよりそうっていう気持ちの部分もほんと求められるお仕事なのですごく大変だと思いますがさすがたはらさんですねなんか優しくいてくれそうですもんありがとうございますあとはちょっとぶっちゃけそうくに行きたいと思いますはいはいえっと正直まだ一年も立ってませんけども寄車されてもちろんくてやめたいなと思われたことってありますかまああのつつだいって大変はもちろん大変なんですがもう個人的なやっぱりやり合わすごやる仕事だなと思ってて最終的にいろんな人に結構とはできても最終半だよ全部自分でするみたいなところとかまあなんかそういうのは個人的な仕事になってるというかまあ自分で決めたから自分でやるみたいなことが大限的で電話を逆さまにも喜んのもらえるみたいなところもあってもやり合わすごい感じています本当で画もやだってもう帰りたいなってめちゃめてやるでもと思ったらまだないですかやめったりないですけどもこのまま帰りたいなと思うことがうんありがとうございますありますよねそれからありますはい僕はもう確かそうですね皆さんこやり合いがあって大丈夫って言うんですけど本当なのかなってとこはいいつま気になって思い出してみている人はいじゃあやり合いの方がまさる辛いよりも気付いよりもってことですかね今どうしてやってるんだよ今どうしてやってるはいありがとうございますおやすみたありますちゃんとどにいち今どんなそうですよねなんかどよどに気はそのお客様の工場権学とかましょいのがあればそこは対応するんですけども気持ってきな家にいることが多いかなとまたただ家で今手で分く何かも進んでいるので家でも仕事しようと思うのができるのでそこは必要に応じてやってるっていう感じですかつけっけっこうバランスは取れているんですねもうずっと寝てませんというわけではではないんですねはいはいあったで今ご家族って天職されてどう思われてますか辛さの仕事もうどんと両親なんかははいばり一応親たく言語まあ割りとぎまぎ人工で課題ところいたんではい私を不可能みたいないいのか見てまあそんな話をあったりしたんですが最近やっぱり新聞とかニュースでもマイマンドへって言葉が結構乗ってたりとかはいそんなですねあとは日本エマンでセンターがどうだみたいなはいまあ割とポジティブな気づとかも出てたりをするのでまあそういうところを見てまあ良かったんじゃないとあとは私の働いてる風に来とかをもうはい見てまたましそう生やりがありそうだねみたいなことよってくれますしまあ読み合わんは十分の好きに人と言葉ではいまあ上がって人の人の人が悔さってかせていてこういうようなスタンスでいてくれています皆さんお減されてますそうですねそうですね簡単ですありがとうございますそんなタハラさんですが将来はどういう教育とかしたいと考えられてますかそうですねなんかまあ私どこというよりはまあ私とバイタイを銀行さんに使ってもらってはいであのまあ一見でも多く一見でもなんかなんていうのにそこでたくたくさんのお客さんますくって上げれるようにまなってもらったらいいなという風に思いますしまあとねっくりやっぱり検数まあまだ一年もただないのでとねっくりバイ検数をやるとでこんなお客さんのに公園するとまあそんな風にやっていきたいなってうぐらいしかまだ描けてれないですはいで気ですもうやっぱりそのターダさんで全職で銀行語系検査でいてかつ今の仕事をされてるからこう思えることだと思う思いますし思い出したいですありがとうございますはいあと今このごらんなっている方ってどうじゃん入車を検討されている方が多いんですけれどもこう入車前にやっておけばよかったことだとかこう自然に知っておいた方がいいことだとかありましたらぜひ教えていただけますかやっぱりあの満呂へというといわゆるバランスシートとかはいあのPRみたいなとまあその辺はの読めないと最初で結構黒をするのではいまあそういうのを見るくせであったりとかまあ僕の勉強であったりとかまあそういうのはしておいてそのわないかなというふうには思いますそうですねどうしたれはあのぼきに急で出るの知識がないともうお仕事はさせてもらえないのでそうですね自然にちょっと知識をつけておくとかなりゆうりになるんじゃないかなと思いま他に何かお伝えしておくことありますかなんかまあもう少し地域に言われば私がいれぶ少をご紹介させていただくとそのやっぱ金曜日館さんとま提供して動いたいする文その検数だったりとかっていうのはまああのあるっていうと他の部署さんに比べるとその情報時代やっぱり上がってきやすいので検数は多くできるかなでまあそれが好きるにちながるかなと思うのではいそういうのあのいや、いたいと言う方はまず一気に欲しいいただけたんだあずになると思います確かにこうなんでも数を行わせていった方がこいつにもなりますしあのそういう意味では地域によってすごいチャンスに目が前提る不少かなと思いますのではいそんな感じですほどですかあとは大丈夫でそれをしておきたいみたいな感覚されましたというのですかはい地域金曜すれしましたあとうちの感覚されました金曜日のとりあえずたださんでしたありがとうございました感覚されました私はお楽しみに\n",
            "ないですかやめたいなはないですけどもこのまま変わりたいなと思うことは最初から第4弾今回は金融法人部に所属されているた原信仰さんにお越しいただきましたた原さんよろしくお願いしますよろしくお願いします普通ですねいつも通りですね全然緊張しなさそうですめっちゃ緊張してますしてますしてますしてますお願いしますた原さんは今入社何年目になりますか 2020年の2月に入社したので9か月10か月とかそんな感じです今紹介した中で一番若手ですね10か月1年もいない 10か月のた原さんはい全職って何されてましたか 全職は新宅銀行にいました新宅銀行お仕事どんなことされてたんですか新宅銀行新宅銀行では個人のお客様は1点に運用相談不動産有意言みたいなそんな話を4年半ほどやらせていただいてその後法人営業ということで結構大企業の売上でいくと100億とかそれぐらいを超えるお客様を担当して保有しだったりとか まあいわゆる法人周りのご相談みたいなそんなことをやってましたすごく高成績を収められていたという話を聞いてます全然人に怒れることがないですそんなた原さんですがどうしてこのエマンドエーセンターに入ろうと思われたんですかもっともっと新宅銀行に入ったのも個人と法人両方やって両方のお悩みに乗れるような社員というか公演になりたいと思って入ってそれをやっていく中でやっぱり新宅銀行がやる法人営業って大企業が相手なので組織対組織っていうことでやっぱりオーナーというか経営者とちょっと距離が遠いなーなんていうことを感じたりしながら中小企業のエマンドエーみたいなところだとオーナーさんの個人の話にも相談乗れてかつ会社のお悩みにも貢献できるというところがいいなと思って入社を受けましたなるほどー本当はお金とかじゃないですかお金もまあやればやっただけ評価されるみたいな体系というんですかそういうのはやっぱり魅力には思ったところももちろんありますそうですよねやっぱそこがうちの会社の大ゴミかなというふうに私も思いますお仕事をきついていろいろ言われてますけれども一番辛かったエピソードなどあれば教えていただけますかまだ入社してそんなに期間もないので一番辛かったなんていうのも小川真ですがやっぱり一番最初の案件をやらせていただいたときにまあエマンドエーというか株式上等ということで株を渡しするのが基本なんですけれども事業上等ということで事業を移すというようなことがあったんですけれども実際それをやる際に当たって補正約する前に従業員の方に対して会事をしてその方たちの同様を得れないと実行ができないってそういうことがあったんですが初めての案件なのでそんなに正直自信もない中で従業員の方とこうなりますというお話をして普通だったら割と5分とか10分くらいで終わるということを聞いてたんですが40分くらいの質疑応答に合いまして前日結構遅くまで頭の中でイメージをしてたので最終はきれいに収まったんですけど割とそこは大変だったなというのがありましたそういうときはどういうことに気をつけてお話をされてたんですかやっぱり従業員の方のことを考えて本県決めたんだよと決してオーナーさんがお金目的でやっているような話ではないとかそういった部分のいわゆる心の面の心情的なお話とかそういうのはやっぱりさせていただきましたしあとはゆずり受けをされる企業様にとって決まってないこととか言っちゃいけないのでここの規定は効果ありますみたいな話とかも当然言わないですしとにかく従業員の方が第一を持っているのが今までなんですということで説明することに努めていたかなというところですねそうですよねMRIの知識ももちろん必要なんですけど彼は従業員の方に寄り添うという気持ちの部分も求められるお仕事なのですごく大変だと思いますがさすが田原さんですね優しく言ってくれそうですもんありがとうございますあとはちょっとぶっちゃけトークに行きたいと思います正直まだ1年も経っていませんけれども入社されて辛くてやめたいなと思われたことってありますか辛いというか大変はもちろん大変なんですが個人的にはやっぱりやりがいはすごいある仕事だなと思ってて最終的にいろんな人に聞くことができても最終判断は全部自分でするみたいなところとかそういうのは個人的にはしょうにゃってるというか自分で決めたから自分でやるみたいなことが体現できてお客様にも喜んでもらえるみたいなところもあってやりがいはすごい感じてます本当ですかもうやだってもう帰りたいなってやめてやるってことはまだないですかやめたいのはないですけどもうこのまま帰りたいなと思うことはありますありますよねはい、それはありますなんかこうそうですね皆さんやりがいがあって大丈夫って言うんですけど本当なのかなってところはいつも気になってると思うし見てる人たちはやりがいの方がまさる辛いよりも、きついよりもってことですかね今の時点では今の時点ではありがとうございますお休みってありますちゃんと土日地今どんな感じですかそうですね土日地はお客様の向上見学とかそういうのがあればそこは対応するんですけども基本的には家にいることが多いかなとただ家で今テレワークなんかも進んでいるので家でも仕事しようともできるのでそこは必要に応じてやってるという感じですからね結構バランスは取れているんですねもずっと寝てませんってわけではではないんですねはい今ご家族って転職されてどう思われてますか太田さんの仕事もともと両親なんかはやっぱり一応新宅言語割とぎま銀行で課題ところいたんで大丈夫かみたいないいのかみたいなそんな話はあったりしたんですが最近やっぱり新聞とかニュースでもマイマンドエーって言葉が結構乗ってたりとかあとは日本M&Aセンターがどうだみたいな割とポジティブな記事とかも出てたりするのでそういうところを見てまあ良かったんじゃないとあとは私の働いている雰囲気とかを見てやりがやりそうだねみたいなことを言ってくれますし読めは自分の好きに来たらということで考えですねまあ頑張って人の内訳に立って稼いで来てこういうようなスタンスでいてくれています皆さん応援されているのでそうですね良かったですありがとうございます那田原さんですが将来はどういうお仕事がしたいと考えられてますかそうですね私同行というよりは私という売帯を銀行さんに使ってもらってで一見でも多く一見でも何かたくさんのお客さんを救ってあげれるようになってもらえたらいいなというふうに思いますしとにかくやっぱり件数をまだ1年も経たないのでとにかくいっぱい件数をやるといろんなお客さんに貢献するとそんなふうにやっていきたいなというくらいしかまだ描けていないです素敵ですやっぱり田原さんって全職で銀行をご経験されていてかつ今のお仕事をされているから思えることだと思いますし応援したいですありがとうございますあと今このご覧になっている方ってどうしたら入社を検討されている方が多いんですけれども入社前にやっておけば良かったことだとか事前に知っておいた方がいいことだとかありましたらぜひ教えていただけますかやっぱりマンドエーと言うといわゆるバランスシートとかPLみたいなとかその辺は読めないと最初で結構苦労するのでそういうのを見る癖であったりとかボキの勉強であったりとかそういうのはしておいて損はないかなというふうには思いますそうですね当社ではボキ29レベルの知識がないとお仕事はさせてもらえないのでそうですね事前にちょっと知識をつけておくとかなり有利になるんじゃないかなと思います他に何かお伝えしておくことありますかもう少し地域金融我々私がイル部署をご紹介させていただくと金融機関さんと提携して動いたりする分検数だったりとかっていうのはある程度他の部署さんに比べると情報自体は上がってきやすいので検数は多くできるかなとそれがスキルにつながるかなと思うのでそういうのをやりたいという方はぜひ地域金融にお越しいただけたらいいなと思いますそうですね確かに何でも数をこなしていたほうが質にもなりますしそういう意味では地域金融ってすごいチャンスに恵まれている部署かなと思いますのでそんな感じです本当ですか?本当は大丈夫ですか?大丈夫ですこれは言っておきたいみたいな方があれば大丈夫ですか?地域金融失礼しましたうちの会社で金融法人部と言います田原さんでしたありがとうございましたありがとうございましたまた次回もお楽しみに\n"
          ]
        }
      ]
    },
    {
      "cell_type": "code",
      "source": [
        "# 文字起こし結果をテキストファイルに一応保存しておきましょう。右側のフォルダ更新マークを押して確認してみましょう。\n",
        "output_file_path = 'result.txt'\n",
        "with open(output_file_path, 'w') as file:\n",
        "    file.write(result_small[\"text\"])"
      ],
      "metadata": {
        "id": "9hDTTOwzt5le"
      },
      "execution_count": 14,
      "outputs": []
    },
    {
      "cell_type": "markdown",
      "source": [
        "無事に動画を文字起こしすることができました！"
      ],
      "metadata": {
        "id": "EktfwwLUrbCj"
      }
    },
    {
      "cell_type": "markdown",
      "source": [
        "もちろんこれらのコードは0から書く必要はなく、「誰かが作ってくれたライブラリ≒機能」をインストール→装備して使うイメージになります。必要なところを書き換える、ライブラリ同士を組み合わせるというのが現在のアプリ開発の主流となっています。"
      ],
      "metadata": {
        "id": "rAAkLfYreO6p"
      }
    },
    {
      "cell_type": "markdown",
      "source": [
        "結果を見てみると、話している人の区別がついていないので、議事録を作成するには話者分離を行う必要がありそうです。<br>\n",
        "→今回は時間の都合上割愛しますが、Langchainなどのライブラリを活用すると、話者分離も可能です。"
      ],
      "metadata": {
        "id": "Juk-T6Vf-3Kg"
      }
    },
    {
      "cell_type": "markdown",
      "metadata": {
        "id": "305e0ee0"
      },
      "source": [
        "# 文字起こし文章の要約"
      ]
    },
    {
      "cell_type": "markdown",
      "metadata": {
        "id": "91348066"
      },
      "source": [
        "## 目的\n",
        "文字起こし文章のテキストデータをGPTの機能を使ってで要約する中で、下記の知識を身につける。\n",
        "* GPTをAPIで呼び出し、生成AIを使う第一歩を踏み出してみましょう。\n",
        "* プロンプトの工夫点を学び、自分なりにプロンプトを書けるようになる"
      ]
    },
    {
      "cell_type": "code",
      "source": [
        "# 今度はAzure上のOpenAI GPTを呼び出せるようにライブラリをインストールします。\n",
        "!pip install openai==0.27.8\n",
        "import openai"
      ],
      "metadata": {
        "colab": {
          "base_uri": "https://localhost:8080/"
        },
        "id": "teMyd3SMJAng",
        "outputId": "11d6d2f6-276e-4ebd-c7c8-8adb6c6525c6"
      },
      "execution_count": 15,
      "outputs": [
        {
          "output_type": "stream",
          "name": "stdout",
          "text": [
            "Collecting openai==0.27.8\n",
            "  Downloading openai-0.27.8-py3-none-any.whl.metadata (13 kB)\n",
            "Requirement already satisfied: requests>=2.20 in /usr/local/lib/python3.10/dist-packages (from openai==0.27.8) (2.31.0)\n",
            "Requirement already satisfied: tqdm in /usr/local/lib/python3.10/dist-packages (from openai==0.27.8) (4.66.4)\n",
            "Requirement already satisfied: aiohttp in /usr/local/lib/python3.10/dist-packages (from openai==0.27.8) (3.9.5)\n",
            "Requirement already satisfied: charset-normalizer<4,>=2 in /usr/local/lib/python3.10/dist-packages (from requests>=2.20->openai==0.27.8) (3.3.2)\n",
            "Requirement already satisfied: idna<4,>=2.5 in /usr/local/lib/python3.10/dist-packages (from requests>=2.20->openai==0.27.8) (3.7)\n",
            "Requirement already satisfied: urllib3<3,>=1.21.1 in /usr/local/lib/python3.10/dist-packages (from requests>=2.20->openai==0.27.8) (2.0.7)\n",
            "Requirement already satisfied: certifi>=2017.4.17 in /usr/local/lib/python3.10/dist-packages (from requests>=2.20->openai==0.27.8) (2024.7.4)\n",
            "Requirement already satisfied: aiosignal>=1.1.2 in /usr/local/lib/python3.10/dist-packages (from aiohttp->openai==0.27.8) (1.3.1)\n",
            "Requirement already satisfied: attrs>=17.3.0 in /usr/local/lib/python3.10/dist-packages (from aiohttp->openai==0.27.8) (23.2.0)\n",
            "Requirement already satisfied: frozenlist>=1.1.1 in /usr/local/lib/python3.10/dist-packages (from aiohttp->openai==0.27.8) (1.4.1)\n",
            "Requirement already satisfied: multidict<7.0,>=4.5 in /usr/local/lib/python3.10/dist-packages (from aiohttp->openai==0.27.8) (6.0.5)\n",
            "Requirement already satisfied: yarl<2.0,>=1.0 in /usr/local/lib/python3.10/dist-packages (from aiohttp->openai==0.27.8) (1.9.4)\n",
            "Requirement already satisfied: async-timeout<5.0,>=4.0 in /usr/local/lib/python3.10/dist-packages (from aiohttp->openai==0.27.8) (4.0.3)\n",
            "Downloading openai-0.27.8-py3-none-any.whl (73 kB)\n",
            "\u001b[?25l   \u001b[90m━━━━━━━━━━━━━━━━━━━━━━━━━━━━━━━━━━━━━━━━\u001b[0m \u001b[32m0.0/73.6 kB\u001b[0m \u001b[31m?\u001b[0m eta \u001b[36m-:--:--\u001b[0m\r\u001b[2K   \u001b[90m━━━━━━━━━━━━━━━━━━━━━━━━━━━━━━━━━━━━━━━━\u001b[0m \u001b[32m73.6/73.6 kB\u001b[0m \u001b[31m5.3 MB/s\u001b[0m eta \u001b[36m0:00:00\u001b[0m\n",
            "\u001b[?25hInstalling collected packages: openai\n",
            "Successfully installed openai-0.27.8\n"
          ]
        }
      ]
    },
    {
      "cell_type": "code",
      "source": [
        "openai.api_type = \"azure\"\n",
        "openai.api_base = \"https://tech0-gpt-event-westus.openai.azure.com\"\n",
        "# 実際はこのように書くと、前述の通り悪用の可能性があります→環境変数として別保存が望ましいですが今回は割愛します。\n",
        "openai.api_key = \"8db5e51a08ab497a9e31003e67b23a5d\"\n",
        "openai.api_version = \"2023-05-15\""
      ],
      "metadata": {
        "id": "1AQZ3VECJAgC"
      },
      "execution_count": 16,
      "outputs": []
    },
    {
      "cell_type": "code",
      "source": [
        "# chatGPTに質問する\n",
        "response = openai.ChatCompletion.create(\n",
        "    engine=\"gpt-4o\",\n",
        "    messages=[\n",
        "        {\"role\": \"user\", \"content\": \"大谷翔平について50文字以内で教えて\"},\n",
        "    ],\n",
        ")\n",
        "# 回答の表示\n",
        "print(response.choices[0][\"message\"][\"content\"].strip())"
      ],
      "metadata": {
        "colab": {
          "base_uri": "https://localhost:8080/"
        },
        "id": "9KBuVFZuJAWz",
        "outputId": "573bece3-13d9-42c1-ac19-eead58a1b902"
      },
      "execution_count": 17,
      "outputs": [
        {
          "output_type": "stream",
          "name": "stdout",
          "text": [
            "大谷翔平は日本のプロ野球選手で、投打両方で活躍する「二刀流」として有名。MLBで活躍中。\n"
          ]
        }
      ]
    },
    {
      "cell_type": "markdown",
      "source": [
        "意外と簡単に読み出せましたね！"
      ],
      "metadata": {
        "id": "pkFCm0gktcKG"
      }
    },
    {
      "cell_type": "code",
      "source": [
        "# 好きな内容に変えてみましょう。\n",
        "response = openai.ChatCompletion.create(\n",
        "    engine=\"gpt-4o\",\n",
        "    messages=[\n",
        "        {\"role\": \"user\", \"content\": \"ここに質問を記載します\"},\n",
        "    ],\n",
        ")\n",
        "# 回答の表示\n",
        "print(response.choices[0][\"message\"][\"content\"].strip())"
      ],
      "metadata": {
        "id": "I1PgZn7OeFAq",
        "colab": {
          "base_uri": "https://localhost:8080/"
        },
        "outputId": "f3b4a2b6-4ed3-4107-a335-cc37c7414cca"
      },
      "execution_count": 18,
      "outputs": [
        {
          "output_type": "stream",
          "name": "stdout",
          "text": [
            "もちろんです。質問をどうぞ。この場で可能な限りお答えいたします。\n"
          ]
        }
      ]
    },
    {
      "cell_type": "markdown",
      "metadata": {
        "id": "f0d1e80a"
      },
      "source": [
        "### 文字起こし文章の確認\n",
        "文字起こし＆要約アプリの打ち合わせをした時の文字起こしデータを要約してみましょう。\n",
        "\n",
        "ただし、扱える文章量には制限があることに注意します。今回は短めの文章なので問題なく対応できるはずです。\n",
        "\n",
        "トークン数のカウント：https://techblog.gmo-ap.jp/2023/06/12/tiktoken/"
      ]
    },
    {
      "cell_type": "code",
      "execution_count": 19,
      "metadata": {
        "id": "48d80307",
        "colab": {
          "base_uri": "https://localhost:8080/"
        },
        "outputId": "4ac606a6-911b-47b1-c8a0-d713562613b7"
      },
      "outputs": [
        {
          "output_type": "stream",
          "name": "stdout",
          "text": [
            "3483 文字\n",
            "---------------------\n",
            "ないですかやめたいなはないですけどもこのまま変わりたいなと思うことは最初から第4弾今回は金融法人部に所属されているた原信仰さんにお越しいただきましたた原さんよろしくお願いしますよろしくお願いします普通\n"
          ]
        }
      ],
      "source": [
        "# テキストデータをファイルから開いて、変数に格納（変数all_text）\n",
        "with open(\"result.txt\") as f:\n",
        "    all_text = f.read()\n",
        "\n",
        "# 文字数の確認\n",
        "print(str(len(all_text))+\" 文字\")\n",
        "\n",
        "#文章の一部を表示\n",
        "print(\"---------------------\")\n",
        "print(all_text[0:100])"
      ]
    },
    {
      "cell_type": "code",
      "execution_count": 20,
      "metadata": {
        "collapsed": true,
        "id": "166a5d3b"
      },
      "outputs": [],
      "source": [
        "# それでは、要約してみましょう！\n",
        "# f～というのは、中身に変数が入っていますよ、という宣言です。\n",
        "def ai_summary(text):\n",
        "    response = openai.ChatCompletion.create(\n",
        "        engine=\"gpt-4o\",\n",
        "        messages=[\n",
        "            {\"role\": \"system\", \"content\": \"下記の文章は文字起こしのテキストファイルです。\\\n",
        "            「あー」や、「えーっと」などに代表される、つなぎ言葉を削除して校正してください。\"},\n",
        "            {\"role\": \"user\", \"content\": text}\n",
        "        ],\n",
        "    )\n",
        "    # 回答の表示\n",
        "    res = response.choices[0][\"message\"][\"content\"].strip()\n",
        "    return res"
      ]
    },
    {
      "cell_type": "code",
      "source": [
        "# 使ってみましょう！\n",
        "res = ai_summary(all_text)\n",
        "print(res)"
      ],
      "metadata": {
        "colab": {
          "base_uri": "https://localhost:8080/"
        },
        "id": "BzF1IZ9lu5PL",
        "outputId": "f5a0a6da-80e0-4a63-d8c4-11ef1bee4f40"
      },
      "execution_count": 21,
      "outputs": [
        {
          "output_type": "stream",
          "name": "stdout",
          "text": [
            "ないですかやめたいなはないですけどもこのまま変わりたいなと思うことは最初から第4弾今回は金融法人部に所属されている田原信仰さんにお越しいただきました。田原さんよろしくお願いします。\n",
            "\n",
            "よろしくお願いします。\n",
            "\n",
            "普通ですね。いつも通りですね。全然緊張しなさそうです。\n",
            "\n",
            "めっちゃ緊張してます。\n",
            "\n",
            "お願いします。田原さんは今入社何年目になりますか？\n",
            "\n",
            "2020年の2月に入社したので9か月、10か月とかそんな感じです。\n",
            "\n",
            "今紹介した中で一番若手ですね。\n",
            "\n",
            "10か月、1年もいない。10か月の田原さん。全職って何されていましたか？\n",
            "\n",
            "全職は新宅銀行にいました。\n",
            "\n",
            "新宅銀行。お仕事どんなことされてたんですか？\n",
            "\n",
            "新宅銀行では個人のお客様に運用相談、不動産、有意言みたいな話を4年半ほどやらせていただいて、その後法人営業ということで結構大企業の売上が100億とかそれぐらいを超えるお客様を担当して、法人周りのご相談をやっていました。\n",
            "\n",
            "すごく高成績を収められていたという話を聞いています。\n",
            "\n",
            "全然そんなことないです。\n",
            "\n",
            "どうしてこのエマンドエーセンターに入ろうと思われたんですか？\n",
            "\n",
            "もっともっと新宅銀行に入ったのも、個人と法人両方やって両方のお悩みに乗れるような社員になりたいと思って入って、それをやっていく中で新宅銀行がやる法人営業って大企業が相手なので組織対組織ということで、オーナーや経営者と距離が遠いなと感じて、中小企業のエマンドエーみたいなところはオーナーさんの個人の話にも相談乗れて、かつ会社のお悩みにも貢献できるところがいいなと思って入社を受けました。\n",
            "\n",
            "なるほど、お金とかじゃないですか？\n",
            "\n",
            "お金もやればやっただけ評価されるみたいな体系は魅力に思った部分もあります。\n",
            "\n",
            "うちの会社の大魅力かなと思います。お仕事をしている中で一番辛かったエピソードなどあれば教えていただけますか？\n",
            "\n",
            "まだ入社してそんなに期間もないので一番辛かったとは言えませんが、一番最初の案件をやらせていただいたときに株式上等ではなく事業上等ということで事業を移すことがあったんです。実際にそれをやる際に従業員の方に対して会事をして、その方たちの同意を得ないと実行ができないということがありました。初めての案件なので自信もない中で従業員の方に説明をして、普通は5分とか10分くらいで終わると聞いていたんですが40分くらいの質疑応答に合いまして、前日遅くまで頭の中でイメージをしていたので最終的にはきれいに収まりましたが、そこは大変でした。\n",
            "\n",
            "そういうときはどういうことに気をつけてお話をされてたんですか？\n",
            "\n",
            "従業員の方のことを考えて、この案件を決めた理由やオーナーさんがお金目的でやっている話ではないことなど心情的な面を伝えるようにしました。譲り受ける企業様にとって決まっていないことは言わないようにし、従業員の方が第一であることを説明するよう努めました。\n",
            "\n",
            "MRIの知識も必要ですし、従業員の方に寄り添うという気持ちの部分も求められるお仕事なので、大変だと思いますが、田原さんの優しさが伝わります。\n",
            "\n",
            "ありがとうございます。\n",
            "\n",
            "ちょっとぶっちゃけトークに行きますが、まだ1年も経っていませんが、入社されて辛くてやめたいなと思ったことはありますか？\n",
            "\n",
            "辛いというか大変な仕事ですが、個人的にはやりがいを感じています。最終的にいろんな人に聞いても最終判断は自分で行うことやお客様に喜んでもらえるところがやりがいです。\n",
            "\n",
            "やめたいと思ったことはないですか？\n",
            "\n",
            "やめたいとは思わないですが、このまま帰りたいなと思うことはあります。\n",
            "\n",
            "ありますよね。皆さんやりがいがあると言いますが、本当なのかなと思うところはありますが、やりがいの方が辛いよりも勝るということですか？\n",
            "\n",
            "今の時点ではそうですね。\n",
            "\n",
            "お休みはちゃんとありますか？土日はどうですか？\n",
            "\n",
            "土日はお客様の向上見学があれば対応しますが、基本的には家にいることが多いです。テレワークも進んでいるので、家でも仕事はできます。バランスは取れています。\n",
            "\n",
            "良かったです。ご家族はどう思われてますか？\n",
            "\n",
            "両親は新宅銀行にいたので心配されましたが、最近は新聞やニュースでエマンドエーの話題が多く、ポジティブな記事も出ているので良かったと言ってくれます。妻は自分の好きにすればいいと言ってくれています。\n",
            "\n",
            "皆さん応援されているのですね。\n",
            "\n",
            "ありがとうございます。\n",
            "\n",
            "田原さんの将来のビジョンは何ですか？\n",
            "\n",
            "私自身を銀行に使ってもらって多くのお客様を救えるようになりたいです。とにかく多くの案件をやって、お客様に貢献したいと思っています。\n",
            "\n",
            "素敵な目標ですね。将来が楽しみです。\n",
            "\n",
            "ありがとうございます。\n",
            "\n",
            "今、入社を検討されている方に向けて、入社前にやっておけば良かったことや事前に知っておいた方がいいことはありますか？\n",
            "\n",
            "エマンドエーではバランスシートやPLなどを読むスキルが必要なので、その辺の勉強はしておいた方がいいと思います。\n",
            "\n",
            "当社では簿記2級レベルの知識が必要なので、事前に勉強しておくと有利ですね。\n",
            "\n",
            "地域金融の部署についても紹介しますと、金融機関と提携して動くので、案件数が多くスキルを磨けるチャンスです。地域金融に来ていただけたら嬉しいです。\n",
            "\n",
            "地域金融はとてもチャンスに恵まれた部署だと思います。最後に何か一言ありますか？\n",
            "\n",
            "特にありません。\n",
            "\n",
            "田原さん、ありがとうございました。\n",
            "\n",
            "ありがとうございました。また次回もお楽しみに。\n"
          ]
        }
      ]
    },
    {
      "cell_type": "code",
      "source": [
        "# このままでも良いですが、さらに用途に合わせて整形してみましょう。\n",
        "# 「議論の目的」「結論」を抽出してみます。\n",
        "def ai_summary_v2(text):\n",
        "    response = openai.ChatCompletion.create(\n",
        "        engine=\"gpt-4o\",\n",
        "        response_format={ \"type\": \"json_object\" },\n",
        "        messages=[\n",
        "            {\"role\": \"system\", \"content\": \"下記の文章は文字起こしのテキストファイルです。\\\n",
        "            「議論の目的」と「結論」を抽出し、それぞれ50字程度で要約し、下記を例にjson形式で出力してください。\\\n",
        "            *例　{'議論の目的':〇〇, '結論':○○}\"},\n",
        "            {\"role\": \"user\", \"content\": text}\n",
        "        ],\n",
        "    )\n",
        "    # 回答の表示\n",
        "    res = response.choices[0].message.content\n",
        "    res = res.replace(\" \", \"\").replace(\"\\n\", \"\")\n",
        "    return res\n",
        "\n",
        "res = ai_summary_v2(res)\n",
        "res"
      ],
      "metadata": {
        "colab": {
          "base_uri": "https://localhost:8080/",
          "height": 54
        },
        "id": "tS6LdBGqLYNH",
        "outputId": "fa227c4e-e199-4791-eb8d-75fedb9c5cbb"
      },
      "execution_count": 22,
      "outputs": [
        {
          "output_type": "execute_result",
          "data": {
            "text/plain": [
              "'{\"議論の目的\":\"田原信仰さんの仕事経験とエマンドエーセンター入社の理由を聞く\",\"結論\":\"顧客に対する貢献とやりがいを感じており、今後も多くの案件を手掛けたい\"}'"
            ],
            "application/vnd.google.colaboratory.intrinsic+json": {
              "type": "string"
            }
          },
          "metadata": {},
          "execution_count": 22
        }
      ]
    },
    {
      "cell_type": "markdown",
      "source": [
        "これで録画データ→データの整形まで完了しました。<br>\n",
        "ここまでをまとめると、ライブラリという機能を組み合わせて、議事録アプリを作ることができました。\n",
        "さらに、データベースへの格納をイメージし、これを表形式で整理してみましょう。"
      ],
      "metadata": {
        "id": "zJsSEVofwv-j"
      }
    },
    {
      "cell_type": "code",
      "source": [
        "!pip install pandas\n",
        "import pandas as pd\n",
        "import json\n",
        "# ここでのas pdは呼び名のようなもので、世間一般的にpdと定義されることが多いです。\n",
        "# pandasは表計算のライブラリとして有名で、データサイエンスの領域でも多く用いられています。"
      ],
      "metadata": {
        "colab": {
          "base_uri": "https://localhost:8080/"
        },
        "id": "M-QWwva4M8hR",
        "outputId": "e459b287-2030-4f20-a91e-ae15bd3721bb"
      },
      "execution_count": 23,
      "outputs": [
        {
          "output_type": "stream",
          "name": "stdout",
          "text": [
            "Requirement already satisfied: pandas in /usr/local/lib/python3.10/dist-packages (2.0.3)\n",
            "Requirement already satisfied: python-dateutil>=2.8.2 in /usr/local/lib/python3.10/dist-packages (from pandas) (2.8.2)\n",
            "Requirement already satisfied: pytz>=2020.1 in /usr/local/lib/python3.10/dist-packages (from pandas) (2024.1)\n",
            "Requirement already satisfied: tzdata>=2022.1 in /usr/local/lib/python3.10/dist-packages (from pandas) (2024.1)\n",
            "Requirement already satisfied: numpy>=1.21.0 in /usr/local/lib/python3.10/dist-packages (from pandas) (1.25.2)\n",
            "Requirement already satisfied: six>=1.5 in /usr/local/lib/python3.10/dist-packages (from python-dateutil>=2.8.2->pandas) (1.16.0)\n"
          ]
        }
      ]
    },
    {
      "cell_type": "code",
      "source": [
        "# 先ほどのデータをjsonファイルに変換し、pandasで表にしてみます。\n",
        "data_dict = json.loads(res)\n",
        "df = pd.DataFrame([data_dict])\n",
        "df"
      ],
      "metadata": {
        "colab": {
          "base_uri": "https://localhost:8080/",
          "height": 89
        },
        "id": "Pz01socWNLLQ",
        "outputId": "9c544210-64ff-4862-decf-14b076f57ecb"
      },
      "execution_count": 24,
      "outputs": [
        {
          "output_type": "execute_result",
          "data": {
            "text/plain": [
              "                            議論の目的                                  結論\n",
              "0  田原信仰さんの仕事経験とエマンドエーセンター入社の理由を聞く  顧客に対する貢献とやりがいを感じており、今後も多くの案件を手掛けたい"
            ],
            "text/html": [
              "\n",
              "  <div id=\"df-75a1a4df-4cf4-4d01-88ed-79985f45fbde\" class=\"colab-df-container\">\n",
              "    <div>\n",
              "<style scoped>\n",
              "    .dataframe tbody tr th:only-of-type {\n",
              "        vertical-align: middle;\n",
              "    }\n",
              "\n",
              "    .dataframe tbody tr th {\n",
              "        vertical-align: top;\n",
              "    }\n",
              "\n",
              "    .dataframe thead th {\n",
              "        text-align: right;\n",
              "    }\n",
              "</style>\n",
              "<table border=\"1\" class=\"dataframe\">\n",
              "  <thead>\n",
              "    <tr style=\"text-align: right;\">\n",
              "      <th></th>\n",
              "      <th>議論の目的</th>\n",
              "      <th>結論</th>\n",
              "    </tr>\n",
              "  </thead>\n",
              "  <tbody>\n",
              "    <tr>\n",
              "      <th>0</th>\n",
              "      <td>田原信仰さんの仕事経験とエマンドエーセンター入社の理由を聞く</td>\n",
              "      <td>顧客に対する貢献とやりがいを感じており、今後も多くの案件を手掛けたい</td>\n",
              "    </tr>\n",
              "  </tbody>\n",
              "</table>\n",
              "</div>\n",
              "    <div class=\"colab-df-buttons\">\n",
              "\n",
              "  <div class=\"colab-df-container\">\n",
              "    <button class=\"colab-df-convert\" onclick=\"convertToInteractive('df-75a1a4df-4cf4-4d01-88ed-79985f45fbde')\"\n",
              "            title=\"Convert this dataframe to an interactive table.\"\n",
              "            style=\"display:none;\">\n",
              "\n",
              "  <svg xmlns=\"http://www.w3.org/2000/svg\" height=\"24px\" viewBox=\"0 -960 960 960\">\n",
              "    <path d=\"M120-120v-720h720v720H120Zm60-500h600v-160H180v160Zm220 220h160v-160H400v160Zm0 220h160v-160H400v160ZM180-400h160v-160H180v160Zm440 0h160v-160H620v160ZM180-180h160v-160H180v160Zm440 0h160v-160H620v160Z\"/>\n",
              "  </svg>\n",
              "    </button>\n",
              "\n",
              "  <style>\n",
              "    .colab-df-container {\n",
              "      display:flex;\n",
              "      gap: 12px;\n",
              "    }\n",
              "\n",
              "    .colab-df-convert {\n",
              "      background-color: #E8F0FE;\n",
              "      border: none;\n",
              "      border-radius: 50%;\n",
              "      cursor: pointer;\n",
              "      display: none;\n",
              "      fill: #1967D2;\n",
              "      height: 32px;\n",
              "      padding: 0 0 0 0;\n",
              "      width: 32px;\n",
              "    }\n",
              "\n",
              "    .colab-df-convert:hover {\n",
              "      background-color: #E2EBFA;\n",
              "      box-shadow: 0px 1px 2px rgba(60, 64, 67, 0.3), 0px 1px 3px 1px rgba(60, 64, 67, 0.15);\n",
              "      fill: #174EA6;\n",
              "    }\n",
              "\n",
              "    .colab-df-buttons div {\n",
              "      margin-bottom: 4px;\n",
              "    }\n",
              "\n",
              "    [theme=dark] .colab-df-convert {\n",
              "      background-color: #3B4455;\n",
              "      fill: #D2E3FC;\n",
              "    }\n",
              "\n",
              "    [theme=dark] .colab-df-convert:hover {\n",
              "      background-color: #434B5C;\n",
              "      box-shadow: 0px 1px 3px 1px rgba(0, 0, 0, 0.15);\n",
              "      filter: drop-shadow(0px 1px 2px rgba(0, 0, 0, 0.3));\n",
              "      fill: #FFFFFF;\n",
              "    }\n",
              "  </style>\n",
              "\n",
              "    <script>\n",
              "      const buttonEl =\n",
              "        document.querySelector('#df-75a1a4df-4cf4-4d01-88ed-79985f45fbde button.colab-df-convert');\n",
              "      buttonEl.style.display =\n",
              "        google.colab.kernel.accessAllowed ? 'block' : 'none';\n",
              "\n",
              "      async function convertToInteractive(key) {\n",
              "        const element = document.querySelector('#df-75a1a4df-4cf4-4d01-88ed-79985f45fbde');\n",
              "        const dataTable =\n",
              "          await google.colab.kernel.invokeFunction('convertToInteractive',\n",
              "                                                    [key], {});\n",
              "        if (!dataTable) return;\n",
              "\n",
              "        const docLinkHtml = 'Like what you see? Visit the ' +\n",
              "          '<a target=\"_blank\" href=https://colab.research.google.com/notebooks/data_table.ipynb>data table notebook</a>'\n",
              "          + ' to learn more about interactive tables.';\n",
              "        element.innerHTML = '';\n",
              "        dataTable['output_type'] = 'display_data';\n",
              "        await google.colab.output.renderOutput(dataTable, element);\n",
              "        const docLink = document.createElement('div');\n",
              "        docLink.innerHTML = docLinkHtml;\n",
              "        element.appendChild(docLink);\n",
              "      }\n",
              "    </script>\n",
              "  </div>\n",
              "\n",
              "\n",
              "  <div id=\"id_0eb913ca-fb8e-4501-906b-11c402afa1b7\">\n",
              "    <style>\n",
              "      .colab-df-generate {\n",
              "        background-color: #E8F0FE;\n",
              "        border: none;\n",
              "        border-radius: 50%;\n",
              "        cursor: pointer;\n",
              "        display: none;\n",
              "        fill: #1967D2;\n",
              "        height: 32px;\n",
              "        padding: 0 0 0 0;\n",
              "        width: 32px;\n",
              "      }\n",
              "\n",
              "      .colab-df-generate:hover {\n",
              "        background-color: #E2EBFA;\n",
              "        box-shadow: 0px 1px 2px rgba(60, 64, 67, 0.3), 0px 1px 3px 1px rgba(60, 64, 67, 0.15);\n",
              "        fill: #174EA6;\n",
              "      }\n",
              "\n",
              "      [theme=dark] .colab-df-generate {\n",
              "        background-color: #3B4455;\n",
              "        fill: #D2E3FC;\n",
              "      }\n",
              "\n",
              "      [theme=dark] .colab-df-generate:hover {\n",
              "        background-color: #434B5C;\n",
              "        box-shadow: 0px 1px 3px 1px rgba(0, 0, 0, 0.15);\n",
              "        filter: drop-shadow(0px 1px 2px rgba(0, 0, 0, 0.3));\n",
              "        fill: #FFFFFF;\n",
              "      }\n",
              "    </style>\n",
              "    <button class=\"colab-df-generate\" onclick=\"generateWithVariable('df')\"\n",
              "            title=\"Generate code using this dataframe.\"\n",
              "            style=\"display:none;\">\n",
              "\n",
              "  <svg xmlns=\"http://www.w3.org/2000/svg\" height=\"24px\"viewBox=\"0 0 24 24\"\n",
              "       width=\"24px\">\n",
              "    <path d=\"M7,19H8.4L18.45,9,17,7.55,7,17.6ZM5,21V16.75L18.45,3.32a2,2,0,0,1,2.83,0l1.4,1.43a1.91,1.91,0,0,1,.58,1.4,1.91,1.91,0,0,1-.58,1.4L9.25,21ZM18.45,9,17,7.55Zm-12,3A5.31,5.31,0,0,0,4.9,8.1,5.31,5.31,0,0,0,1,6.5,5.31,5.31,0,0,0,4.9,4.9,5.31,5.31,0,0,0,6.5,1,5.31,5.31,0,0,0,8.1,4.9,5.31,5.31,0,0,0,12,6.5,5.46,5.46,0,0,0,6.5,12Z\"/>\n",
              "  </svg>\n",
              "    </button>\n",
              "    <script>\n",
              "      (() => {\n",
              "      const buttonEl =\n",
              "        document.querySelector('#id_0eb913ca-fb8e-4501-906b-11c402afa1b7 button.colab-df-generate');\n",
              "      buttonEl.style.display =\n",
              "        google.colab.kernel.accessAllowed ? 'block' : 'none';\n",
              "\n",
              "      buttonEl.onclick = () => {\n",
              "        google.colab.notebook.generateWithVariable('df');\n",
              "      }\n",
              "      })();\n",
              "    </script>\n",
              "  </div>\n",
              "\n",
              "    </div>\n",
              "  </div>\n"
            ],
            "application/vnd.google.colaboratory.intrinsic+json": {
              "type": "dataframe",
              "variable_name": "df",
              "summary": "{\n  \"name\": \"df\",\n  \"rows\": 1,\n  \"fields\": [\n    {\n      \"column\": \"\\u8b70\\u8ad6\\u306e\\u76ee\\u7684\",\n      \"properties\": {\n        \"dtype\": \"string\",\n        \"num_unique_values\": 1,\n        \"samples\": [\n          \"\\u7530\\u539f\\u4fe1\\u4ef0\\u3055\\u3093\\u306e\\u4ed5\\u4e8b\\u7d4c\\u9a13\\u3068\\u30a8\\u30de\\u30f3\\u30c9\\u30a8\\u30fc\\u30bb\\u30f3\\u30bf\\u30fc\\u5165\\u793e\\u306e\\u7406\\u7531\\u3092\\u805e\\u304f\"\n        ],\n        \"semantic_type\": \"\",\n        \"description\": \"\"\n      }\n    },\n    {\n      \"column\": \"\\u7d50\\u8ad6\",\n      \"properties\": {\n        \"dtype\": \"string\",\n        \"num_unique_values\": 1,\n        \"samples\": [\n          \"\\u9867\\u5ba2\\u306b\\u5bfe\\u3059\\u308b\\u8ca2\\u732e\\u3068\\u3084\\u308a\\u304c\\u3044\\u3092\\u611f\\u3058\\u3066\\u304a\\u308a\\u3001\\u4eca\\u5f8c\\u3082\\u591a\\u304f\\u306e\\u6848\\u4ef6\\u3092\\u624b\\u639b\\u3051\\u305f\\u3044\"\n        ],\n        \"semantic_type\": \"\",\n        \"description\": \"\"\n      }\n    }\n  ]\n}"
            }
          },
          "metadata": {},
          "execution_count": 24
        }
      ]
    },
    {
      "cell_type": "code",
      "source": [
        "# 今回はデータベースではなく、csvで保存してみましょう。\n",
        "df.to_csv(\"summary.csv\", index=False)"
      ],
      "metadata": {
        "id": "zW7xXbVSSP_P"
      },
      "execution_count": 25,
      "outputs": []
    },
    {
      "cell_type": "markdown",
      "source": [
        "保存後、左のファイルからダウンロードして中身を見てみましょう！<br>\n",
        "新しい議事録が増えれば同じように出力しても良いですし、データベースに追記をするという処理によってデータを蓄積しても良いですね！"
      ],
      "metadata": {
        "id": "I1whFPngSfVu"
      }
    },
    {
      "cell_type": "markdown",
      "source": [
        "# streamlitでアプリに。\n",
        "Pythonだけでwebアプリが作れる、streamlitというフレームワークで、これまで作ったコードを「アプリ」にしてみましょう。"
      ],
      "metadata": {
        "id": "RA6KnShywyit"
      }
    },
    {
      "cell_type": "code",
      "source": [
        "!pip install streamlit\n",
        "import streamlit as st"
      ],
      "metadata": {
        "colab": {
          "base_uri": "https://localhost:8080/"
        },
        "id": "lWWPVEDVw7Ni",
        "outputId": "12dcdba3-26d6-490a-ddde-49f7f5b003f6"
      },
      "execution_count": 26,
      "outputs": [
        {
          "output_type": "stream",
          "name": "stdout",
          "text": [
            "Collecting streamlit\n",
            "  Downloading streamlit-1.37.0-py2.py3-none-any.whl.metadata (8.5 kB)\n",
            "Requirement already satisfied: altair<6,>=4.0 in /usr/local/lib/python3.10/dist-packages (from streamlit) (4.2.2)\n",
            "Requirement already satisfied: blinker<2,>=1.0.0 in /usr/lib/python3/dist-packages (from streamlit) (1.4)\n",
            "Requirement already satisfied: cachetools<6,>=4.0 in /usr/local/lib/python3.10/dist-packages (from streamlit) (5.4.0)\n",
            "Requirement already satisfied: click<9,>=7.0 in /usr/local/lib/python3.10/dist-packages (from streamlit) (8.1.7)\n",
            "Requirement already satisfied: numpy<3,>=1.20 in /usr/local/lib/python3.10/dist-packages (from streamlit) (1.25.2)\n",
            "Requirement already satisfied: packaging<25,>=20 in /usr/local/lib/python3.10/dist-packages (from streamlit) (24.1)\n",
            "Requirement already satisfied: pandas<3,>=1.3.0 in /usr/local/lib/python3.10/dist-packages (from streamlit) (2.0.3)\n",
            "Requirement already satisfied: pillow<11,>=7.1.0 in /usr/local/lib/python3.10/dist-packages (from streamlit) (9.4.0)\n",
            "Requirement already satisfied: protobuf<6,>=3.20 in /usr/local/lib/python3.10/dist-packages (from streamlit) (3.20.3)\n",
            "Requirement already satisfied: pyarrow>=7.0 in /usr/local/lib/python3.10/dist-packages (from streamlit) (14.0.2)\n",
            "Requirement already satisfied: requests<3,>=2.27 in /usr/local/lib/python3.10/dist-packages (from streamlit) (2.31.0)\n",
            "Requirement already satisfied: rich<14,>=10.14.0 in /usr/local/lib/python3.10/dist-packages (from streamlit) (13.7.1)\n",
            "Requirement already satisfied: tenacity<9,>=8.1.0 in /usr/local/lib/python3.10/dist-packages (from streamlit) (8.5.0)\n",
            "Requirement already satisfied: toml<2,>=0.10.1 in /usr/local/lib/python3.10/dist-packages (from streamlit) (0.10.2)\n",
            "Requirement already satisfied: typing-extensions<5,>=4.3.0 in /usr/local/lib/python3.10/dist-packages (from streamlit) (4.12.2)\n",
            "Collecting gitpython!=3.1.19,<4,>=3.0.7 (from streamlit)\n",
            "  Downloading GitPython-3.1.43-py3-none-any.whl.metadata (13 kB)\n",
            "Collecting pydeck<1,>=0.8.0b4 (from streamlit)\n",
            "  Downloading pydeck-0.9.1-py2.py3-none-any.whl.metadata (4.1 kB)\n",
            "Requirement already satisfied: tornado<7,>=6.0.3 in /usr/local/lib/python3.10/dist-packages (from streamlit) (6.3.3)\n",
            "Collecting watchdog<5,>=2.1.5 (from streamlit)\n",
            "  Downloading watchdog-4.0.1-py3-none-manylinux2014_x86_64.whl.metadata (37 kB)\n",
            "Requirement already satisfied: entrypoints in /usr/local/lib/python3.10/dist-packages (from altair<6,>=4.0->streamlit) (0.4)\n",
            "Requirement already satisfied: jinja2 in /usr/local/lib/python3.10/dist-packages (from altair<6,>=4.0->streamlit) (3.1.4)\n",
            "Requirement already satisfied: jsonschema>=3.0 in /usr/local/lib/python3.10/dist-packages (from altair<6,>=4.0->streamlit) (4.23.0)\n",
            "Requirement already satisfied: toolz in /usr/local/lib/python3.10/dist-packages (from altair<6,>=4.0->streamlit) (0.12.1)\n",
            "Collecting gitdb<5,>=4.0.1 (from gitpython!=3.1.19,<4,>=3.0.7->streamlit)\n",
            "  Downloading gitdb-4.0.11-py3-none-any.whl.metadata (1.2 kB)\n",
            "Requirement already satisfied: python-dateutil>=2.8.2 in /usr/local/lib/python3.10/dist-packages (from pandas<3,>=1.3.0->streamlit) (2.8.2)\n",
            "Requirement already satisfied: pytz>=2020.1 in /usr/local/lib/python3.10/dist-packages (from pandas<3,>=1.3.0->streamlit) (2024.1)\n",
            "Requirement already satisfied: tzdata>=2022.1 in /usr/local/lib/python3.10/dist-packages (from pandas<3,>=1.3.0->streamlit) (2024.1)\n",
            "Requirement already satisfied: charset-normalizer<4,>=2 in /usr/local/lib/python3.10/dist-packages (from requests<3,>=2.27->streamlit) (3.3.2)\n",
            "Requirement already satisfied: idna<4,>=2.5 in /usr/local/lib/python3.10/dist-packages (from requests<3,>=2.27->streamlit) (3.7)\n",
            "Requirement already satisfied: urllib3<3,>=1.21.1 in /usr/local/lib/python3.10/dist-packages (from requests<3,>=2.27->streamlit) (2.0.7)\n",
            "Requirement already satisfied: certifi>=2017.4.17 in /usr/local/lib/python3.10/dist-packages (from requests<3,>=2.27->streamlit) (2024.7.4)\n",
            "Requirement already satisfied: markdown-it-py>=2.2.0 in /usr/local/lib/python3.10/dist-packages (from rich<14,>=10.14.0->streamlit) (3.0.0)\n",
            "Requirement already satisfied: pygments<3.0.0,>=2.13.0 in /usr/local/lib/python3.10/dist-packages (from rich<14,>=10.14.0->streamlit) (2.16.1)\n",
            "Collecting smmap<6,>=3.0.1 (from gitdb<5,>=4.0.1->gitpython!=3.1.19,<4,>=3.0.7->streamlit)\n",
            "  Downloading smmap-5.0.1-py3-none-any.whl.metadata (4.3 kB)\n",
            "Requirement already satisfied: MarkupSafe>=2.0 in /usr/local/lib/python3.10/dist-packages (from jinja2->altair<6,>=4.0->streamlit) (2.1.5)\n",
            "Requirement already satisfied: attrs>=22.2.0 in /usr/local/lib/python3.10/dist-packages (from jsonschema>=3.0->altair<6,>=4.0->streamlit) (23.2.0)\n",
            "Requirement already satisfied: jsonschema-specifications>=2023.03.6 in /usr/local/lib/python3.10/dist-packages (from jsonschema>=3.0->altair<6,>=4.0->streamlit) (2023.12.1)\n",
            "Requirement already satisfied: referencing>=0.28.4 in /usr/local/lib/python3.10/dist-packages (from jsonschema>=3.0->altair<6,>=4.0->streamlit) (0.35.1)\n",
            "Requirement already satisfied: rpds-py>=0.7.1 in /usr/local/lib/python3.10/dist-packages (from jsonschema>=3.0->altair<6,>=4.0->streamlit) (0.19.0)\n",
            "Requirement already satisfied: mdurl~=0.1 in /usr/local/lib/python3.10/dist-packages (from markdown-it-py>=2.2.0->rich<14,>=10.14.0->streamlit) (0.1.2)\n",
            "Requirement already satisfied: six>=1.5 in /usr/local/lib/python3.10/dist-packages (from python-dateutil>=2.8.2->pandas<3,>=1.3.0->streamlit) (1.16.0)\n",
            "Downloading streamlit-1.37.0-py2.py3-none-any.whl (8.7 MB)\n",
            "\u001b[2K   \u001b[90m━━━━━━━━━━━━━━━━━━━━━━━━━━━━━━━━━━━━━━━━\u001b[0m \u001b[32m8.7/8.7 MB\u001b[0m \u001b[31m75.5 MB/s\u001b[0m eta \u001b[36m0:00:00\u001b[0m\n",
            "\u001b[?25hDownloading GitPython-3.1.43-py3-none-any.whl (207 kB)\n",
            "\u001b[2K   \u001b[90m━━━━━━━━━━━━━━━━━━━━━━━━━━━━━━━━━━━━━━━━\u001b[0m \u001b[32m207.3/207.3 kB\u001b[0m \u001b[31m17.8 MB/s\u001b[0m eta \u001b[36m0:00:00\u001b[0m\n",
            "\u001b[?25hDownloading pydeck-0.9.1-py2.py3-none-any.whl (6.9 MB)\n",
            "\u001b[2K   \u001b[90m━━━━━━━━━━━━━━━━━━━━━━━━━━━━━━━━━━━━━━━━\u001b[0m \u001b[32m6.9/6.9 MB\u001b[0m \u001b[31m75.2 MB/s\u001b[0m eta \u001b[36m0:00:00\u001b[0m\n",
            "\u001b[?25hDownloading watchdog-4.0.1-py3-none-manylinux2014_x86_64.whl (83 kB)\n",
            "\u001b[2K   \u001b[90m━━━━━━━━━━━━━━━━━━━━━━━━━━━━━━━━━━━━━━━━\u001b[0m \u001b[32m83.0/83.0 kB\u001b[0m \u001b[31m7.8 MB/s\u001b[0m eta \u001b[36m0:00:00\u001b[0m\n",
            "\u001b[?25hDownloading gitdb-4.0.11-py3-none-any.whl (62 kB)\n",
            "\u001b[2K   \u001b[90m━━━━━━━━━━━━━━━━━━━━━━━━━━━━━━━━━━━━━━━━\u001b[0m \u001b[32m62.7/62.7 kB\u001b[0m \u001b[31m5.9 MB/s\u001b[0m eta \u001b[36m0:00:00\u001b[0m\n",
            "\u001b[?25hDownloading smmap-5.0.1-py3-none-any.whl (24 kB)\n",
            "Installing collected packages: watchdog, smmap, pydeck, gitdb, gitpython, streamlit\n",
            "Successfully installed gitdb-4.0.11 gitpython-3.1.43 pydeck-0.9.1 smmap-5.0.1 streamlit-1.37.0 watchdog-4.0.1\n"
          ]
        }
      ]
    },
    {
      "cell_type": "code",
      "source": [
        "%%writefile app.py\n",
        "\n",
        "import streamlit as st\n",
        "import openai\n",
        "import pandas as pd\n",
        "import whisper\n",
        "import uuid\n",
        "import os\n",
        "import json\n",
        "from moviepy.editor import VideoFileClip\n",
        "\n",
        "# Azureの認証情報を設定\n",
        "openai.api_type = \"azure\"\n",
        "openai.api_base = \"https://tech0-gpt-event-westus.openai.azure.com\"\n",
        "openai.api_key = \"8db5e51a08ab497a9e31003e67b23a5d\"\n",
        "openai.api_version = \"2023-05-15\"\n",
        "\n",
        "def ai_summary_v2(text):\n",
        "    response = openai.ChatCompletion.create(\n",
        "        engine=\"gpt-4o\",\n",
        "        response_format={ \"type\": \"json_object\" },\n",
        "        messages=[\n",
        "            {\"role\": \"system\", \"content\": \"下記の文章は文字起こしのテキストファイルです。\\\n",
        "            「議論の目的」と「結論」を抽出し、それぞれ50字程度で要約し、下記を例にjson形式で出力してください。\\\n",
        "            *例　{'議論の目的':〇〇, '結論':○○}\"},\n",
        "            {\"role\": \"user\", \"content\": text}\n",
        "        ],\n",
        "    )\n",
        "    # 回答の表示\n",
        "    res = response.choices[0].message.content\n",
        "    res = res.replace(\" \", \"\").replace(\"\\n\", \"\")\n",
        "    return res\n",
        "\n",
        "def transcribe_audio_whisper(file_path):\n",
        "    model = whisper.load_model(\"tiny\")\n",
        "    result = model.transcribe(file_path)\n",
        "    return result[\"text\"]\n",
        "\n",
        "def main():\n",
        "    st.title('超速作成議事録君')\n",
        "\n",
        "    with st.spinner('ファイルを読み込み中...'):\n",
        "        uploaded_file = st.file_uploader(\"ファイルを選択してください\", type=['mp4', 'wav', 'm4a'])\n",
        "\n",
        "    if uploaded_file is not None:\n",
        "        file_extension = os.path.splitext(uploaded_file.name)[1]\n",
        "        audio_file_name = uploaded_file.name.replace(file_extension, '.wav')\n",
        "\n",
        "        with open(uploaded_file.name, \"wb\") as f:\n",
        "            f.write(uploaded_file.getbuffer())\n",
        "\n",
        "        if file_extension in ['.mp4', '.m4a']:\n",
        "            clip = VideoFileClip(uploaded_file.name)\n",
        "            clip.audio.write_audiofile(audio_file_name, 44100, 2, 2000, \"pcm_s32le\")\n",
        "        else:\n",
        "            audio_file_name = uploaded_file.name\n",
        "\n",
        "        with st.spinner('文字起こし中...'):\n",
        "            transcript_text = transcribe_audio_whisper(audio_file_name)\n",
        "\n",
        "        if transcript_text:\n",
        "            with st.spinner('要約中...'):\n",
        "                res = ai_summary_v2(transcript_text)\n",
        "                st.subheader(\"要約\")\n",
        "                data_dict = json.loads(res)\n",
        "                df = pd.DataFrame([data_dict])\n",
        "                st.write(df)\n",
        "        else:\n",
        "            st.error('文字起こしに失敗しました。')\n",
        "\n",
        "if __name__ == \"__main__\":\n",
        "    main()"
      ],
      "metadata": {
        "colab": {
          "base_uri": "https://localhost:8080/"
        },
        "id": "lQ5w027zxDJK",
        "outputId": "bfa2dfdb-6f41-4c1f-8213-06b2b4e30bed"
      },
      "execution_count": 38,
      "outputs": [
        {
          "output_type": "stream",
          "name": "stdout",
          "text": [
            "Overwriting app.py\n"
          ]
        }
      ]
    },
    {
      "cell_type": "code",
      "source": [
        "# ちょっとしたお作法\n",
        "from google.colab import files\n",
        "files.view(\"/content\")\n",
        "files.view(\"app.py\")"
      ],
      "metadata": {
        "colab": {
          "base_uri": "https://localhost:8080/",
          "height": 17
        },
        "id": "Vkcj5IpWx8Gc",
        "outputId": "60bbcf13-ea44-427b-9685-ed1f2b9ef11f"
      },
      "execution_count": 39,
      "outputs": [
        {
          "output_type": "display_data",
          "data": {
            "text/plain": [
              "<IPython.core.display.Javascript object>"
            ],
            "application/javascript": [
              "\n",
              "      ((filepath) => {{\n",
              "        if (!google.colab.kernel.accessAllowed) {{\n",
              "          return;\n",
              "        }}\n",
              "        google.colab.files.view(filepath);\n",
              "      }})(\"/content\")"
            ]
          },
          "metadata": {}
        },
        {
          "output_type": "display_data",
          "data": {
            "text/plain": [
              "<IPython.core.display.Javascript object>"
            ],
            "application/javascript": [
              "\n",
              "      ((filepath) => {{\n",
              "        if (!google.colab.kernel.accessAllowed) {{\n",
              "          return;\n",
              "        }}\n",
              "        google.colab.files.view(filepath);\n",
              "      }})(\"/content/app.py\")"
            ]
          },
          "metadata": {}
        }
      ]
    },
    {
      "cell_type": "code",
      "source": [
        "#streamlitをlocaltunnelのトンネルで起動\n",
        "#実行画面に出るyour url is:のurlに接続し、ブラウザの別タブに移動\n",
        "#Click to Continueでstreamlitの動作を確認\n",
        "#ExternalURLのXXX.XXXの:よりも前の部分（●●.●●●.●●●.●●●）を入力しcommit\n",
        "#確認が終わったらこのセルの実行を停止する\n",
        "!streamlit run app.py & sleep 3 && npx localtunnel --port 8501"
      ],
      "metadata": {
        "colab": {
          "base_uri": "https://localhost:8080/"
        },
        "id": "4CahgRQzyGf7",
        "outputId": "d41dc58f-36a7-4c6d-8151-d69bc1285339"
      },
      "execution_count": 40,
      "outputs": [
        {
          "output_type": "stream",
          "name": "stdout",
          "text": [
            "\n",
            "Collecting usage statistics. To deactivate, set browser.gatherUsageStats to false.\n",
            "\u001b[0m\n",
            "\u001b[0m\n",
            "\u001b[34m\u001b[1m  You can now view your Streamlit app in your browser.\u001b[0m\n",
            "\u001b[0m\n",
            "\u001b[34m  Local URL: \u001b[0m\u001b[1mhttp://localhost:8501\u001b[0m\n",
            "\u001b[34m  Network URL: \u001b[0m\u001b[1mhttp://172.28.0.12:8501\u001b[0m\n",
            "\u001b[34m  External URL: \u001b[0m\u001b[1mhttp://34.90.161.196:8501\u001b[0m\n",
            "\u001b[0m\n",
            "your url is: https://true-ads-allow.loca.lt\n",
            "error: XDG_RUNTIME_DIR not set in the environment.\n",
            "ALSA lib confmisc.c:855:(parse_card) cannot find card '0'\n",
            "ALSA lib conf.c:5178:(_snd_config_evaluate) function snd_func_card_inum returned error: No such file or directory\n",
            "ALSA lib confmisc.c:422:(snd_func_concat) error evaluating strings\n",
            "ALSA lib conf.c:5178:(_snd_config_evaluate) function snd_func_concat returned error: No such file or directory\n",
            "ALSA lib confmisc.c:1334:(snd_func_refer) error evaluating name\n",
            "ALSA lib conf.c:5178:(_snd_config_evaluate) function snd_func_refer returned error: No such file or directory\n",
            "ALSA lib conf.c:5701:(snd_config_expand) Evaluate error: No such file or directory\n",
            "ALSA lib pcm.c:2664:(snd_pcm_open_noupdate) Unknown PCM default\n",
            "ALSA lib confmisc.c:855:(parse_card) cannot find card '0'\n",
            "ALSA lib conf.c:5178:(_snd_config_evaluate) function snd_func_card_inum returned error: No such file or directory\n",
            "ALSA lib confmisc.c:422:(snd_func_concat) error evaluating strings\n",
            "ALSA lib conf.c:5178:(_snd_config_evaluate) function snd_func_concat returned error: No such file or directory\n",
            "ALSA lib confmisc.c:1334:(snd_func_refer) error evaluating name\n",
            "ALSA lib conf.c:5178:(_snd_config_evaluate) function snd_func_refer returned error: No such file or directory\n",
            "ALSA lib conf.c:5701:(snd_config_expand) Evaluate error: No such file or directory\n",
            "ALSA lib pcm.c:2664:(snd_pcm_open_noupdate) Unknown PCM default\n",
            "MoviePy - Writing audio in testmovie.wav\n",
            "MoviePy - Done.\n",
            "\u001b[34m  Stopping...\u001b[0m\n",
            "^C\n"
          ]
        }
      ]
    }
  ]
}